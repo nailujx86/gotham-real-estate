{
 "metadata": {
  "language_info": {
   "codemirror_mode": {
    "name": "ipython",
    "version": 3
   },
   "file_extension": ".py",
   "mimetype": "text/x-python",
   "name": "python",
   "nbconvert_exporter": "python",
   "pygments_lexer": "ipython3",
   "version": 3
  },
  "orig_nbformat": 2
 },
 "nbformat": 4,
 "nbformat_minor": 2,
 "cells": [
  {
   "source": [
    "# Aufgabe 1: Business Understanding"
   ],
   "cell_type": "markdown",
   "metadata": {}
  },
  {
   "source": [
    "## Ziele:\n",
    "\n",
    "1.   Vorhersage des Verkaufspreises\n",
    "2.   Maximierung des Gewinns durch gezieltes Renovieren\n",
    "3.   Welches Budeget sollte in welchem Gebiet investieren?\n",
    "4.   Welche Faktoren haben Einfluss auf den Preis?\n",
    "3.   Welches ist der beste Verkaufsmonat?\n",
    "\n",
    "-----------------------\n",
    "Investoren erwarten einen möglichst hohen Gewinn für ihr Geld, das sie investieren. Wichtige Ziele sind daher die oben genannten fünf Ziele. Der Verkaufspreis eines Hauses soll vorhergesagt werden können, außerdem soll herausgefunden werden welche \"Hausattribute\" besonders häufig unter den Verkäufen waren. Dadurch soll durch gezieltes Renovieren das Geld effizienter eingesetzt werden können. Um Investoren mit einem begrenzten Budget das Investieren zu erleichtern sollte herausgefunden werden in welchem Bezirk man mit welchem Budget ein Haus kaufen kann. Auch wird analysiert, welche Faktoren eine Auswirkung auf den Preis haben.  \n",
    "Weiterhin könnte es Unterschiede vom Verkaufspreis zum Verkaufsmonat geben. Um den Gewinn zu maximieren ist es hier sinnvoll den Monat zu ermitteln, zu dem günstig eingekauft und teuer verkauft werden kann. Hierdurch können unsere Kunden/Investoren ihren Gewinn maximieren."
   ],
   "cell_type": "markdown",
   "metadata": {}
  }
 ]
}