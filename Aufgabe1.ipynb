{
 "metadata": {
  "language_info": {
   "codemirror_mode": {
    "name": "ipython",
    "version": 3
   },
   "file_extension": ".py",
   "mimetype": "text/x-python",
   "name": "python",
   "nbconvert_exporter": "python",
   "pygments_lexer": "ipython3",
   "version": 3
  },
  "orig_nbformat": 2
 },
 "nbformat": 4,
 "nbformat_minor": 2,
 "cells": [
  {
   "source": [
    "# Aufgabe 1: Business Understanding"
   ],
   "cell_type": "markdown",
   "metadata": {}
  },
  {
   "source": [
    "## Ziele:\n",
    "\n",
    "1.   Vorhersage des Verkaufspreises\n",
    "2.   Was muss renoviert werden um den Verkaufspreis der Immobilie zu maximieren?\n",
    "3.   Mit welchem Budget sollte in welches Gebiet investiert werden?\n",
    "4.   Welche Hausattribute haben einen ausschlaggebenden Einfluss auf den Preis?\n",
    "3.   Welches ist der beste Verkaufsmonat einer Immobilie?\n",
    "\n",
    "-----------------------\n",
    "Investoren erwarten einen möglichst hohen Gewinn für ihr Geld, welches sie in die Immobilien investieren.  \n",
    "Sinnvolle Ziele sind daher die oben genannten fünf Ziele.\n",
    "\n",
    "Der Verkaufspreis eines Hauses soll vorhergesagt werden können, außerdem soll herausgefunden werden welche Immobilien-Eigenschaften besonders häufig unter den Verkäufen vertreten waren.  \n",
    "\n",
    "Weiterhin soll durch Renovierungsvorschläge das Geld effizienter eingesetzt werden können.  \n",
    "\n",
    "Um Investoren mit einem begrenzten Budget das Investieren zu erleichtern sollte herausgefunden werden in welchem Bezirk man mit welchem Budget ein Haus kaufen kann.  \n",
    "\n",
    "Zudem soll analysiert werden, welche Hausattribute und Verkaufsfaktoren welche Auswirkung auf den Preis haben.  \n",
    "\n",
    "Außerdem könnte es Unterschiede vom Verkaufspreis zum Verkaufsmonat geben. Um den Gewinn zu maximieren ist es hier sinnvoll den Monat zu ermitteln, zu dem günstig eingekauft und teuer verkauft werden kann. Hierdurch können unsere Kunden/Investoren ihren potentiellen Gewinn maximieren."
   ],
   "cell_type": "markdown",
   "metadata": {}
  }
 ]
}