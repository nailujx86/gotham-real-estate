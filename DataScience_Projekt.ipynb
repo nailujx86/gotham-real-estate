{
  "nbformat": 4,
  "nbformat_minor": 0,
  "metadata": {
    "colab": {
      "name": "DataScience_Projekt.ipynb",
      "provenance": [],
      "collapsed_sections": [],
      "toc_visible": true
    },
    "kernelspec": {
      "name": "python3",
      "display_name": "Python 3"
    },
    "accelerator": "TPU"
  },
  "cells": [
    {
      "cell_type": "markdown",
      "metadata": {
        "id": "XUenk4TVO_6E"
      },
      "source": [
        "# Aufgabe 1: Business Understanding"
      ]
    },
    {
      "cell_type": "markdown",
      "metadata": {
        "id": "n5u7N9PPPJ6E"
      },
      "source": [
        "## Ziele:\n",
        "\n",
        "1.   Vorhersage des Verkaufspreises\n",
        "2.   Maximierung des Gewinns durch gezieltes Renovieren\n",
        "3.   Vorhersage des besten Verkaufsmonats\n",
        "\n",
        "-----------------------\n",
        "Investoren erwarten eine möglichst großen Gewinn für ihr Geld, das sie investieren. Wichtige Ziele sind daher die oben genannten drei. Der Verkaufspreis eines Hauses soll vorhergesagt werden können, dazu sollen Zusammenhänge zwischen den Haus-\"Attributen\" und dem Hauspreis herausgefunden werden, sodass durch gezieltes Renovieren das Geld effizient eingesetzt werden kann. Zum Beispiel könnte es in gewissen Stadtteilen wichtiger sein, eine Klimaanlage zu besitzen, als den Pool zu renobieren.\n",
        "Außerdem könnte es Unterschiede vom Verkaufspreis zum Verkaufsmonat geben. Um den Gewinn zu maximieren ist es auch hier sinnvoll den Monat herauszufinden, zu dem günstig eingekauft und teuer verkauft werden kann, so kännen unsere Kunden/Investoren ihren Gewinn maximieren."
      ]
    },
    {
      "cell_type": "markdown",
      "metadata": {
        "id": "uNqB1FlbQZh_"
      },
      "source": [
        "# Aufgabe 2: Data Exploration und Analyse"
      ]
    },
    {
      "cell_type": "code",
      "metadata": {
        "id": "MTvv8Tz2Qv9A",
        "outputId": "96ed5599-ddd5-4f8f-e9d8-aafe3e1b4912",
        "colab": {
          "base_uri": "https://localhost:8080/",
          "height": 34
        }
      },
      "source": [
        "# from google.colab import drive\n",
        "# drive.mount('/content/drive', force_remount=True)"
      ],
      "execution_count": null,
      "outputs": []
    },
    {
      "cell_type": "code",
      "metadata": {
        "id": "A4yS-tjQR6Sa"
      },
      "source": [
        "import pandas as pd"
      ],
      "execution_count": null,
      "outputs": []
    },
    {
      "cell_type": "code",
      "metadata": {
        "id": "mYkaP8eBRtwl",
        "outputId": "301b197f-4678-494d-b55b-dc82f1db2e9c",
        "colab": {
          "base_uri": "https://localhost:8080/",
          "height": 558
        }
      },
      "source": [
        "# dataset = pd.read_csv('/content/drive/My Drive/Datascience/DatenAusgegeben1.0.csv', delimiter=';')\n",
        "dataset = pd.read_csv('./DatenAusgegeben1.1.csv', delimiter=';')\n",
        "dataset\n"
      ],
      "execution_count": null,
      "outputs": []
    },
    {
      "cell_type": "code",
      "metadata": {
        "id": "c6s4ZmLUVBcs"
      },
      "source": [
        "import seaborn as sb\n",
        "import matplotlib.pyplot as plt\n",
        "\n",
        "#sb.pairplot(data = dataset)"
      ],
      "execution_count": null,
      "outputs": []
    },
    {
      "cell_type": "code",
      "metadata": {
        "id": "hziTNtFxVl4G",
        "outputId": "9ba5595d-76d2-4962-d160-5c8f8206de71",
        "colab": {
          "base_uri": "https://localhost:8080/",
          "height": 1000
        }
      },
      "source": [
        "#dataset_noprice = dataset[dataset.columns.difference(['Preis', 'Grundstück in qm'])]\n",
        "plt.figure(figsize = (10, 10))\n",
        "\n",
        "#sb.boxplot(data = dataset_noprice)\n",
        "columns = ['Grundstück in qm', 'Zustand', 'Gebaut',\n",
        "           'Renoviert', 'Zustand Fassade', 'Kellerfläche in qm',\n",
        "           'Erster Stock in qm', 'Zweiter Stock in qm', 'Wohnfläche in qm', \n",
        "           'Schlafzimmer', 'Küchen', 'Küchenqualität', 'Räume', 'Garagenkapazität',\n",
        "           'Verkaufsmonat', 'Verkaufsjahr', 'Preis']\n",
        "for column in columns:\n",
        "  print(column)\n",
        "  sb.boxenplot(data = dataset[column])\n",
        "  plt.show()\n",
        "  # pd.plotting.boxplot(data = dataset[[column]])"
      ],
      "execution_count": null,
      "outputs": []
    },
    {
      "cell_type": "code",
      "metadata": {
        "id": "Lyt-6BdMW00w",
        "outputId": "21f26dc3-6137-42fb-8a38-5873c8059db0",
        "colab": {
          "base_uri": "https://localhost:8080/",
          "height": 279
        }
      },
      "source": [
        "sb.boxenplot(data = dataset[['Verkaufsjahr', 'Preis']], x = 'Verkaufsjahr', y= 'Preis')\n",
        "plt.show() # banane"
      ],
      "execution_count": null,
      "outputs": []
    },
    {
      "cell_type": "code",
      "execution_count": null,
      "metadata": {},
      "outputs": [],
      "source": [
        "print(\"TEST\");"
      ]
    },
    {
      "cell_type": "code",
      "execution_count": null,
      "metadata": {},
      "outputs": [],
      "source": [
        "fig, axes = plt.subplots(1, 2)\n",
        "plt.tight_layout(pad = 2)\n",
        "sb.boxenplot(data=dataset['Renoviert'], ax=axes[0])\n",
        "sb.boxenplot(data=dataset['Gebaut'], ax=axes[1])\n",
        "plt.show()"
      ]
    },
    {
      "cell_type": "code",
      "execution_count": null,
      "metadata": {},
      "outputs": [],
      "source": []
    }
  ]
}