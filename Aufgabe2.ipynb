{
 "metadata": {
  "language_info": {
   "codemirror_mode": {
    "name": "ipython",
    "version": 3
   },
   "file_extension": ".py",
   "mimetype": "text/x-python",
   "name": "python",
   "nbconvert_exporter": "python",
   "pygments_lexer": "ipython3",
   "version": "3.8.3-final"
  },
  "orig_nbformat": 2,
  "kernelspec": {
   "name": "python3",
   "display_name": "Python 3"
  }
 },
 "nbformat": 4,
 "nbformat_minor": 2,
 "cells": [
  {
   "source": [
    "# Aufgabe 2: Data Exploration und Analyse"
   ],
   "cell_type": "markdown",
   "metadata": {}
  },
  {
   "cell_type": "code",
   "execution_count": null,
   "metadata": {},
   "outputs": [],
   "source": [
    "import pandas as pd"
   ]
  },
  {
   "cell_type": "code",
   "execution_count": null,
   "metadata": {},
   "outputs": [],
   "source": [
    "# dataset = pd.read_csv('/content/drive/My Drive/Datascience/DatenAusgegeben1.0.csv', delimiter=';')\n",
    "# Datensatz einlesen\n",
    "dataset = pd.read_csv('./DatenAusgegeben1.0.csv', delimiter=';', encoding = 'cp852')\n",
    "dataset"
   ]
  },
  {
   "cell_type": "code",
   "execution_count": null,
   "metadata": {},
   "outputs": [],
   "source": [
    "#Import seaborn und pyplot\n",
    "import seaborn as sb\n",
    "import matplotlib.pyplot as plt\n",
    "\n",
    "sb.pairplot(data = dataset)\n",
    "plt.show()"
   ]
  },
  {
   "cell_type": "code",
   "execution_count": null,
   "metadata": {},
   "outputs": [],
   "source": [
    "#dataset_noprice = dataset[dataset.columns.difference(['Preis', 'Grundstück in qm'])]\n",
    "plt.figure(figsize = (10, 10))\n",
    "\n",
    "#sb.boxplot(data = dataset_noprice)\n",
    "columns = ['Grundstück in qm', 'Zustand', 'Gebaut',\n",
    "           'Renoviert', 'Zustand Fassade', 'Kellerflche in qm',\n",
    "           'Erster Stock in qm', 'Zweiter Stock in qm', 'Wohnflche in qm', \n",
    "           'Schlafzimmer', 'Küchen', 'Küchenqualitt', 'Rume', 'Garagenkapazitt',\n",
    "           'Verkaufsmonat', 'Verkaufsjahr', 'Preis']\n",
    "for column in columns:\n",
    "  print(column)\n",
    "  sb.boxenplot(data = dataset[column])\n",
    "  plt.show()\n",
    "  # pd.plotting.boxplot(data = dataset[[column]])"
   ]
  },
  {
   "source": [
    "Zuerst müssen Anomalien im Datensatz gefunden werden, hierfür eigenen sich Boxplots sehr gut. Dabei können ähnliche Attribute (z.B Jahreszahlen, oder Flächenangaben) in eine Figur gezeichnet werden:"
   ],
   "cell_type": "markdown",
   "metadata": {}
  },
  {
   "cell_type": "code",
   "execution_count": null,
   "metadata": {},
   "outputs": [],
   "source": [
    "#sb.boxplot(data = dataset_noprice)\n",
    "import math\n",
    "\n",
    "fig, axes = plt.subplots(4, 5, figsize = (10, 15))\n",
    "i = 0\n",
    "plt.tight_layout(pad = 2)\n",
    "for column in columns:\n",
    "  chosenax = axes[math.floor(i / 5)][i % 5]\n",
    "  chosenax.set_title(column)\n",
    "  sb.boxplot(data = dataset[column], ax = chosenax)\n",
    "  i = i + 1\n",
    "plt.show()\n",
    "  # pd.plotting.boxplot(data = dataset[[column]])"
   ]
  },
  {
   "cell_type": "code",
   "execution_count": null,
   "metadata": {},
   "outputs": [],
   "source": []
  },
  {
   "source": [
    "#TODO: Anomalien beschreiben"
   ],
   "cell_type": "markdown",
   "metadata": {}
  },
  {
   "cell_type": "code",
   "execution_count": null,
   "metadata": {},
   "outputs": [],
   "source": [
    "sb.boxenplot(data = dataset[['Verkaufsjahr', 'Preis']], x = 'Verkaufsjahr', y= 'Preis')\n",
    "plt.show()"
   ]
  },
  {
   "cell_type": "code",
   "execution_count": null,
   "metadata": {},
   "outputs": [],
   "source": [
    "import math\n",
    "\n",
    "attribute_columns = ['Grundstücksform', 'Steigung', 'Zone', 'Lage',\n",
    "'Typ', 'Zustand', 'Zustand Fassade', 'Heizung',\n",
    "'Heizungsqualitt', 'Klimaanlage', 'Schlafzimmer', 'Küchen',\n",
    "'Küchenqualitt', 'Rume', 'Garage Typ', 'Garagenkapazitt', 'Pool']\n",
    "\n",
    "data_no_nan = dataset[attribute_columns].fillna('Nix')\n",
    "\n",
    "column_amount = len(data_no_nan.columns)\n",
    "fig, axes = plt.subplots(math.ceil(column_amount / 4), 4, figsize = (25, 15))\n",
    "\n",
    "i = 0\n",
    "plt.tight_layout(pad = 3)\n",
    "for column in data_no_nan.columns:\n",
    "  chosenax = axes[math.floor(i / 4)][i % 4]\n",
    "  chosenax.set_title(column)\n",
    "  sb.countplot(data = data_no_nan, x = column, ax = chosenax)\n",
    "  i = i + 1\n",
    "plt.show()\n"
   ]
  },
  {
   "cell_type": "code",
   "execution_count": null,
   "metadata": {},
   "outputs": [],
   "source": [
    "plt.figure(figsize = (15,15))\n",
    "sb.heatmap(dataset.fillna(0).corr(), annot = True, cmap = 'viridis')\n",
    "plt.show()"
   ]
  },
  {
   "cell_type": "code",
   "execution_count": null,
   "metadata": {},
   "outputs": [],
   "source": [
    "\n",
    "plt.figure(figsize = (20, 10))\n",
    "sb.heatmap(data = dataset.fillna(0).corr()['Preis'].to_frame(), annot = True, cmap = 'viridis')\n",
    "plt.show()"
   ]
  },
  {
   "source": [
    "Wichtig könnte sein:\n",
    "- Gebaut ?\n",
    "- Renoviert\n",
    "- Kellerfläche\n",
    "- Wohnfläche\n",
    "- Küchenqualtiät\n",
    "- Räume\n",
    "- Garagenkapazität"
   ],
   "cell_type": "markdown",
   "metadata": {}
  },
  {
   "cell_type": "code",
   "execution_count": null,
   "metadata": {},
   "outputs": [],
   "source": [
    "sb.boxenplot(data = dataset, x = 'Küchenqualitt', y = 'Preis')"
   ]
  },
  {
   "cell_type": "code",
   "execution_count": null,
   "metadata": {},
   "outputs": [],
   "source": [
    "sb.boxenplot(data = dataset, x = 'Zustand', y = 'Preis')"
   ]
  }
 ]
}