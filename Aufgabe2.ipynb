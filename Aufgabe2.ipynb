{
 "metadata": {
  "language_info": {
   "codemirror_mode": {
    "name": "ipython",
    "version": 3
   },
   "file_extension": ".py",
   "mimetype": "text/x-python",
   "name": "python",
   "nbconvert_exporter": "python",
   "pygments_lexer": "ipython3",
   "version": "3.8.3-final"
  },
  "orig_nbformat": 2,
  "kernelspec": {
   "name": "python3",
   "display_name": "Python 3"
  }
 },
 "nbformat": 4,
 "nbformat_minor": 2,
 "cells": [
  {
   "source": [
    "# Aufgabe 2: Data Exploration und Analyse"
   ],
   "cell_type": "markdown",
   "metadata": {}
  },
  {
   "cell_type": "code",
   "execution_count": null,
   "metadata": {},
   "outputs": [],
   "source": [
    "import pandas as pd"
   ]
  },
  {
   "cell_type": "code",
   "execution_count": null,
   "metadata": {},
   "outputs": [],
   "source": [
    "# dataset = pd.read_csv('/content/drive/My Drive/Datascience/DatenAusgegeben1.0.csv', delimiter=';')\n",
    "# Datensatz einlesen\n",
    "dataset = pd.read_csv('./DatenAusgegeben1.1.csv', delimiter=';')\n",
    "dataset"
   ]
  },
  {
   "cell_type": "code",
   "execution_count": null,
   "metadata": {},
   "outputs": [],
   "source": [
    "#Import seaborn und pyplot\n",
    "import seaborn as sb\n",
    "import matplotlib.pyplot as plt\n",
    "\n",
    "#sb.pairplot(data = dataset)"
   ]
  },
  {
   "cell_type": "code",
   "execution_count": null,
   "metadata": {},
   "outputs": [],
   "source": [
    "#dataset_noprice = dataset[dataset.columns.difference(['Preis', 'Grundstück in qm'])]\n",
    "plt.figure(figsize = (10, 10))\n",
    "\n",
    "#sb.boxplot(data = dataset_noprice)\n",
    "columns = ['Grundstück in qm', 'Zustand', 'Gebaut',\n",
    "           'Renoviert', 'Zustand Fassade', 'Kellerfläche in qm',\n",
    "           'Erster Stock in qm', 'Zweiter Stock in qm', 'Wohnfläche in qm', \n",
    "           'Schlafzimmer', 'Küchen', 'Küchenqualität', 'Räume', 'Garagenkapazität',\n",
    "           'Verkaufsmonat', 'Verkaufsjahr', 'Preis']\n",
    "for column in columns:\n",
    "  print(column)\n",
    "  sb.boxenplot(data = dataset[column])\n",
    "  plt.show()\n",
    "  # pd.plotting.boxplot(data = dataset[[column]])"
   ]
  },
  {
   "source": [
    "Zuerst müssen Anomalien im Datensatz gefunden werden, hierfür eigenen sich Boxplots sehr gut. Dabei können ähnliche Attribute (z.B Jahreszahlen, oder Flächenangaben) in eine Figur gezeichnet werden:"
   ],
   "cell_type": "markdown",
   "metadata": {}
  },
  {
   "cell_type": "code",
   "execution_count": null,
   "metadata": {},
   "outputs": [],
   "source": [
    "#sb.boxplot(data = dataset_noprice)\n",
    "import math\n",
    "columns = ['Grundstück in qm', 'Zustand', 'Gebaut',\n",
    "           'Renoviert', 'Zustand Fassade', 'Kellerfläche in qm',\n",
    "           'Erster Stock in qm', 'Zweiter Stock in qm', 'Wohnfläche in qm', \n",
    "           'Schlafzimmer', 'Küchen', 'Küchenqualität', 'Räume', 'Garagenkapazität',\n",
    "           'Verkaufsmonat', 'Verkaufsjahr', 'Preis']\n",
    "fig, axes = plt.subplots(4, 5, figsize = (10, 15))\n",
    "i = 0\n",
    "plt.tight_layout(pad = 2)\n",
    "for column in columns:\n",
    "  chosenax = axes[math.floor(i / 5)][i % 5]\n",
    "  chosenax.set_title(column)\n",
    "  sb.boxplot(data = dataset[column], ax = chosenax)\n",
    "  i = i + 1\n",
    "plt.show()\n",
    "  # pd.plotting.boxplot(data = dataset[[column]])"
   ]
  },
  {
   "cell_type": "code",
   "execution_count": null,
   "metadata": {},
   "outputs": [],
   "source": [
    "columns = ['Grundstück in qm', 'Zustand', 'Gebaut',\n",
    "           'Renoviert', 'Zustand Fassade', 'Kellerfläche in qm',\n",
    "           'Erster Stock in qm', 'Zweiter Stock in qm', 'Wohnfläche in qm', \n",
    "           'Schlafzimmer', 'Küchen', 'Küchenqualität', 'Räume', 'Garagenkapazität',\n",
    "           'Verkaufsmonat', 'Verkaufsjahr', 'Preis']\n",
    "\n",
    "columns_filtered = ['Grundstück in qm', 'Zustand Fassade', 'Kellerfläche in qm',\n",
    "           'Erster Stock in qm', 'Zweiter Stock in qm', 'Wohnfläche in qm', \n",
    "           'Schlafzimmer', 'Gebaut', 'Räume', 'Garagenkapazität', 'Preis']\n",
    "\n",
    "Q1 = dataset[columns_filtered].quantile(0.25)\n",
    "Q3 = dataset[columns_filtered].quantile(0.75)\n",
    "IQR = Q3 - Q1\n",
    "\n",
    "df_out = dataset[~((dataset[columns_filtered] < (Q1 - 1.5 * IQR)) |(dataset[columns_filtered] > (Q3 + 1.5 * IQR))).any(axis=1)]\n",
    "# print(dataset['Preis'], df_out['Preis'])\n",
    "\n",
    "\n",
    "# sb.boxplot(data = df[['Preis']])\n",
    "# plt.show()\n",
    "\n",
    "fig, axes = plt.subplots(4, 5, figsize = (10, 15))\n",
    "i = 0\n",
    "plt.tight_layout(pad = 2)\n",
    "for column in columns:\n",
    "  chosenax = axes[math.floor(i / 5)][i % 5]\n",
    "  chosenax.set_title(column)\n",
    "  sb.boxplot(data = df_out[[column]], ax = chosenax)\n",
    "  i = i + 1\n",
    "plt.show()"
   ]
  },
  {
   "source": [
    "#TODO: Anomalien beschreiben"
   ],
   "cell_type": "markdown",
   "metadata": {}
  },
  {
   "cell_type": "code",
   "execution_count": null,
   "metadata": {},
   "outputs": [],
   "source": [
    "#Boxenplots für die Flächenangaben\n",
    "fig, axes = plt.subplots(1, 5, figsize=(10,6))\n",
    "plt.tight_layout(pad = 2)\n",
    "axes[0].set_title('Erster Stock in qm')\n",
    "axes[1].set_title('Zweiter Stock in qm')\n",
    "axes[2].set_title('Kellerfläche in qm')\n",
    "axes[3].set_title('Wohnfläche in qm')\n",
    "axes[4].set_title('Grundstück in qm')\n",
    "sb.boxplot(data=dataset['Erster Stock in qm'], ax=axes[0])\n",
    "sb.boxplot(data=dataset['Zweiter Stock in qm'], ax=axes[1])\n",
    "sb.boxplot(data=dataset['Kellerfläche in qm'], ax=axes[2])\n",
    "sb.boxplot(data=dataset['Wohnfläche in qm'], ax=axes[3])\n",
    "sb.boxplot(data=dataset['Grundstück in qm'], ax=axes[4])\n",
    "plt.show()"
   ]
  },
  {
   "cell_type": "code",
   "execution_count": null,
   "metadata": {},
   "outputs": [],
   "source": [
    "sb.boxenplot(data = dataset[['Verkaufsjahr', 'Preis']], x = 'Verkaufsjahr', y= 'Preis')\n",
    "plt.show()"
   ]
  },
  {
   "cell_type": "code",
   "execution_count": null,
   "metadata": {},
   "outputs": [],
   "source": []
  }
 ]
}