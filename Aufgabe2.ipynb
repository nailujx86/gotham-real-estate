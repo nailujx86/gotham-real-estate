{
 "metadata": {
  "language_info": {
   "codemirror_mode": {
    "name": "ipython",
    "version": 3
   },
   "file_extension": ".py",
   "mimetype": "text/x-python",
   "name": "python",
   "nbconvert_exporter": "python",
   "pygments_lexer": "ipython3",
   "version": "3.8.3-final"
  },
  "orig_nbformat": 2,
  "kernelspec": {
   "name": "python3",
   "display_name": "Python 3"
  }
 },
 "nbformat": 4,
 "nbformat_minor": 2,
 "cells": [
  {
   "source": [
    "# Aufgabe 2: Data Exploration und Analyse"
   ],
   "cell_type": "markdown",
   "metadata": {}
  },
  {
   "cell_type": "code",
   "execution_count": null,
   "metadata": {},
   "outputs": [],
   "source": [
    "import pandas as pd\n",
    "import seaborn as sb\n",
    "import matplotlib.pyplot as plt\n",
    "import math"
   ]
  },
  {
   "cell_type": "code",
   "execution_count": null,
   "metadata": {},
   "outputs": [],
   "source": [
    "# Datensatz einlesen\n",
    "dataset = pd.read_csv('./DatenAusgegeben1.0.csv', delimiter=';', encoding = 'cp852')\n",
    "dataset"
   ]
  },
  {
   "source": [
    "Import seaborn und pyplot"
   ],
   "cell_type": "markdown",
   "metadata": {}
  },
  {
   "cell_type": "code",
   "execution_count": null,
   "metadata": {},
   "outputs": [],
   "source": [
    "columns = ['Grundstück in qm', 'Zustand', 'Gebaut',\n",
    "           'Renoviert', 'Zustand Fassade', 'Kellerflche in qm',\n",
    "           'Erster Stock in qm', 'Zweiter Stock in qm', 'Wohnflche in qm', \n",
    "           'Schlafzimmer', 'Küchen', 'Küchenqualitt', 'Rume', 'Garagenkapazitt',\n",
    "           'Verkaufsmonat', 'Verkaufsjahr', 'Preis']"
   ]
  },
  {
   "source": [
    "Zuerst müssen Ausreißer im Datensatz gefunden werden. Hierfür eignen sich Boxplots sehr gut. Dabei können numerische Attribute in eine Figur gezeichnet werden:"
   ],
   "cell_type": "markdown",
   "metadata": {}
  },
  {
   "cell_type": "code",
   "execution_count": null,
   "metadata": {},
   "outputs": [],
   "source": [
    "## Durch Subplots mehrere Plots auf einer Figure\n",
    "fig, axes = plt.subplots(4, 5, figsize = (10, 15))\n",
    "i = 0\n",
    "plt.tight_layout(pad = 2)\n",
    "for column in columns:\n",
    "  chosenax = axes[math.floor(i / 5)][i % 5]\n",
    "  chosenax.set_title(column)\n",
    "  sb.boxplot(data = dataset[column], ax = chosenax)\n",
    "  i = i + 1\n",
    "plt.show()"
   ]
  },
  {
   "source": [
    "Bei dem obenstehenden Diagramm zeigt sich, dass sich in einigen Spalten durchaus starke Ausreißer finden.  \n",
    "Hier ist als Beispiel die Grundstücksgröße, Wohnfläche und den Preis zu nennen. Diese Ausreißer sollten in der Data Preparation folglich bereinigt werden"
   ],
   "cell_type": "markdown",
   "metadata": {}
  },
  {
   "source": [
    "## Untersuchung auf einen Zusammenhang zwischen Preis und Verkaufszeitpunkt\n",
    "Um zu Untersuchen ob der Zeitpunkt einen Einfluss auf den Verkaufspreis besitzt, untersuchen wir zwei Boxplots die den Zusammenhang zwischen Verkaufszeitpunkt und Verkaufspreis darstellen sollen."
   ],
   "cell_type": "markdown",
   "metadata": {}
  },
  {
   "cell_type": "code",
   "execution_count": null,
   "metadata": {},
   "outputs": [],
   "source": [
    "sb.boxplot(data = dataset[['Verkaufsjahr', 'Preis']], x = 'Verkaufsjahr', y = 'Preis')\n",
    "plt.show()\n",
    "sb.boxplot(data = dataset[['Verkaufsmonat', 'Preis']], x = 'Verkaufsmonat', y = 'Preis')\n",
    "plt.show()"
   ]
  },
  {
   "source": [
    "### Erkenntnis\n",
    "Aus diesen zwei Diagrammen lässt sich kein Zusammenhang zwischen Zeitpunkt und Preis erkennen."
   ],
   "cell_type": "markdown",
   "metadata": {}
  },
  {
   "source": [
    "## Untersuchung des Datensatzes auf vernachlässigbare Hauseigenschaften (Spalten)\n",
    "\n",
    "Da nicht-aussagekräftige Spalten nicht in unser Modell einfließen sollten, wird folgend der Datensatz auf vernachlässigbare bzw. nichtssagende Eigenschaften untersucht."
   ],
   "cell_type": "markdown",
   "metadata": {}
  },
  {
   "cell_type": "code",
   "execution_count": null,
   "metadata": {},
   "outputs": [],
   "source": [
    "attribute_columns = ['Grundstücksform', 'Steigung', 'Zone', 'Lage',\n",
    "'Typ', 'Zustand', 'Zustand Fassade', 'Heizung',\n",
    "'Heizungsqualitt', 'Klimaanlage', 'Schlafzimmer', 'Küchen',\n",
    "'Küchenqualitt', 'Rume', 'Garage Typ', 'Garagenkapazitt', 'Pool'] # Alle Spalten die Immobilieneigenschaften repräsentieren\n",
    "\n",
    "data_no_nan = dataset[attribute_columns].fillna('Nix') # Füllt leere Zeilen (bspw. bei Pool und GaragenTyp) mit einem Standardwert.\n",
    "\n",
    "column_amount = len(data_no_nan.columns)\n",
    "fig, axes = plt.subplots(math.ceil(column_amount / 4), 4, figsize = (25, 15))\n",
    "\n",
    "i = 0\n",
    "plt.tight_layout(pad = 3)\n",
    "for column in data_no_nan.columns:\n",
    "  chosenax = axes[math.floor(i / 4)][i % 4]\n",
    "  chosenax.set_title(column)\n",
    "  sb.countplot(data = data_no_nan, x = column, ax = chosenax)\n",
    "  i = i + 1\n",
    "plt.show()\n"
   ]
  },
  {
   "source": [
    "### Erkenntnis\n",
    "Nicht aussagekräftige Spalten scheinen zu sein:\n",
    "- Pool\n",
    "- Küchen(anzahl)\n",
    "- Klimaanlage\n",
    "- Heizung"
   ],
   "cell_type": "markdown",
   "metadata": {}
  },
  {
   "source": [
    "## Korrelation zwischen Preis und Immmobilieneigenschaften\n",
    "Um die Korrelation visualisieren zu können wird folgend eine einspaltige Heatmap genutzt.  \n",
    "Aus dieser soll sich herauslesen lassen können welche Attribute ausschlaggebend für einen höheren, oder auch einen niedrigeren Preis sind."
   ],
   "cell_type": "markdown",
   "metadata": {}
  },
  {
   "cell_type": "code",
   "execution_count": null,
   "metadata": {},
   "outputs": [],
   "source": [
    "plt.figure(figsize = (20, 10))\n",
    "sb.heatmap(data = dataset.fillna(0).corr()['Preis'].to_frame(), annot = True, cmap = 'viridis')\n",
    "plt.show()"
   ]
  },
  {
   "source": [
    "### Erkenntnis\n",
    "In einer Korrelation mit dem Preis stehende Eigenschaften sind:\n",
    "- Grundstücksgröße\n",
    "- Baujahr\n",
    "- Renovierungsjahr\n",
    "- "
   ],
   "cell_type": "markdown",
   "metadata": {}
  },
  {
   "source": [
    "Wichtig könnte sein:\n",
    "- Gebaut ?\n",
    "- Renoviert\n",
    "- Kellerfläche\n",
    "- Wohnfläche\n",
    "- Küchenqualtiät\n",
    "- Räume\n",
    "- Garagenkapazität"
   ],
   "cell_type": "markdown",
   "metadata": {}
  },
  {
   "cell_type": "code",
   "execution_count": null,
   "metadata": {},
   "outputs": [],
   "source": [
    "sb.boxenplot(data = dataset, x = 'Küchenqualitt', y = 'Preis')"
   ]
  },
  {
   "cell_type": "code",
   "execution_count": null,
   "metadata": {},
   "outputs": [],
   "source": [
    "sb.boxenplot(data = dataset, x = 'Zustand', y = 'Preis')"
   ]
  },
  {
   "cell_type": "code",
   "execution_count": null,
   "metadata": {},
   "outputs": [],
   "source": [
    "plt.figure(figsize = (15,8))\n",
    "sb.boxplot(data = dataset, x = 'Preis', y = 'Bezirk')\n",
    "plt.show()"
   ]
  },
  {
   "source": [
    "Jeder Bezirk besitzt anderen Preis-Median und eine andere Reichweite der Hauspreise.\n",
    "Bezirk beeinflusst folglich den Preis."
   ],
   "cell_type": "markdown",
   "metadata": {}
  },
  {
   "cell_type": "code",
   "execution_count": null,
   "metadata": {},
   "outputs": [],
   "source": [
    "sb.countplot(data = dataset, y = 'Heizung')\n",
    "plt.show()"
   ]
  },
  {
   "cell_type": "code",
   "execution_count": null,
   "metadata": {},
   "outputs": [],
   "source": [
    "sb.countplot(data = dataset[['Pool']].fillna('Kein Pool'), y = 'Pool')\n",
    "plt.show()"
   ]
  },
  {
   "cell_type": "code",
   "execution_count": null,
   "metadata": {},
   "outputs": [],
   "source": [
    "sb.countplot(data = dataset[['Klimaanlage']], y = 'Klimaanlage')\n",
    "plt.show()"
   ]
  },
  {
   "cell_type": "code",
   "execution_count": null,
   "metadata": {},
   "outputs": [],
   "source": [
    "sb.countplot(data = dataset[['Heizungsqualitt']], y = 'Heizungsqualitt')\n",
    "plt.show()"
   ]
  },
  {
   "cell_type": "code",
   "execution_count": null,
   "metadata": {},
   "outputs": [],
   "source": [
    "sb.countplot(data = dataset[['Grundstücksform']], y = 'Grundstücksform')\n",
    "plt.show()"
   ]
  },
  {
   "cell_type": "code",
   "execution_count": null,
   "metadata": {},
   "outputs": [],
   "source": [
    "sb.countplot(data = dataset[['Zone']], y = 'Zone')\n",
    "plt.show()"
   ]
  }
 ]
}