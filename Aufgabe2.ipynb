{
 "cells": [
  {
   "cell_type": "markdown",
   "metadata": {},
   "source": [
    "# Aufgabe 2: Data Exploration und Analyse"
   ]
  },
  {
   "cell_type": "code",
   "execution_count": null,
   "metadata": {},
   "outputs": [],
   "source": [
    "import pandas as pd\n",
    "import seaborn as sb\n",
    "import matplotlib.pyplot as plt\n",
    "import math"
   ]
  },
  {
   "cell_type": "code",
   "execution_count": null,
   "metadata": {},
   "outputs": [],
   "source": [
    "# Datensatz einlesen\n",
    "dataset = pd.read_csv('./DatenAusgegeben1.0.csv', delimiter=';', encoding = 'cp852')\n",
    "dataset"
   ]
  },
  {
   "cell_type": "markdown",
   "metadata": {},
   "source": [
    "Import seaborn und pyplot"
   ]
  },
  {
   "cell_type": "code",
   "execution_count": null,
   "metadata": {},
   "outputs": [],
   "source": [
    "columns = ['Grundstück in qm', 'Zustand', 'Gebaut',\n",
    "           'Renoviert', 'Zustand Fassade', 'Kellerflche in qm',\n",
    "           'Erster Stock in qm', 'Zweiter Stock in qm', 'Wohnflche in qm', \n",
    "           'Schlafzimmer', 'Küchen', 'Küchenqualitt', 'Rume', 'Garagenkapazitt',\n",
    "           'Verkaufsmonat', 'Verkaufsjahr', 'Preis']"
   ]
  },
  {
   "cell_type": "markdown",
   "metadata": {},
   "source": [
    "## Finden von Anomalien\n",
    "Zuerst müssen Ausreißer im Datensatz gefunden werden. Hierfür eignen sich Boxplots sehr gut."
   ]
  },
  {
   "cell_type": "code",
   "execution_count": null,
   "metadata": {},
   "outputs": [],
   "source": [
    "## Durch Subplots mehrere Plots auf einer Figure\n",
    "fig, axes = plt.subplots(4, 5, figsize = (10, 15))\n",
    "i = 0\n",
    "plt.tight_layout(pad = 2)\n",
    "for column in columns:\n",
    "  chosenax = axes[math.floor(i / 5)][i % 5]\n",
    "  chosenax.set_title(column)\n",
    "  sb.boxplot(data = dataset[column], ax = chosenax)\n",
    "  i = i + 1\n",
    "plt.show()"
   ]
  },
  {
   "cell_type": "markdown",
   "metadata": {},
   "source": [
    "Bei dem obenstehenden Diagramm zeigt sich, dass sich in einigen Spalten durchaus starke Ausreißer finden.  \n",
    "Hier ist als Beispiel die Grundstücksgröße, Wohnfläche und den Preis zu nennen. Diese Ausreißer sollten in der Data Preparation folglich bereinigt werden"
   ]
  },
  {
   "cell_type": "markdown",
   "metadata": {},
   "source": [
    "## Untersuchung auf einen Zusammenhang zwischen Preis und Verkaufszeitpunkt\n",
    "Um zu Untersuchen ob der Zeitpunkt einen Einfluss auf den Verkaufspreis besitzt, untersuchen wir zwei Boxplots die den Zusammenhang zwischen Verkaufszeitpunkt und Verkaufspreis darstellen sollen."
   ]
  },
  {
   "cell_type": "code",
   "execution_count": null,
   "metadata": {},
   "outputs": [],
   "source": [
    "sb.boxplot(data = dataset[['Verkaufsjahr', 'Preis']], x = 'Verkaufsjahr', y = 'Preis')\n",
    "plt.show()\n",
    "sb.boxplot(data = dataset[['Verkaufsmonat', 'Preis']], x = 'Verkaufsmonat', y = 'Preis')\n",
    "plt.show()"
   ]
  },
  {
   "cell_type": "markdown",
   "metadata": {},
   "source": [
    "### Erkenntnis\n",
    "Aus diesen zwei Diagrammen lässt sich kein Zusammenhang zwischen Zeitpunkt und Preis erkennen. Verkaufsjahr und Verkaufsmonat besitzen keinen Einfluss auf den Preis."
   ]
  },
  {
   "cell_type": "markdown",
   "metadata": {},
   "source": [
    "## Untersuchung des Datensatzes auf vernachlässigbare Hauseigenschaften (Spalten)\n",
    "\n",
    "Da nicht-aussagekräftige Spalten nicht in unser Modell einfließen sollten, wird folgend der Datensatz auf vernachlässigbare bzw. nichtssagende Eigenschaften untersucht."
   ]
  },
  {
   "cell_type": "code",
   "execution_count": null,
   "metadata": {},
   "outputs": [],
   "source": [
    "attribute_columns = ['Grundstücksform', 'Steigung', 'Zone', 'Lage',\n",
    "'Typ', 'Zustand', 'Zustand Fassade', 'Heizung',\n",
    "'Heizungsqualitt', 'Klimaanlage', 'Schlafzimmer', 'Küchen',\n",
    "'Küchenqualitt', 'Rume', 'Garage Typ', 'Garagenkapazitt', 'Pool'] # Alle Spalten die Immobilieneigenschaften repräsentieren\n",
    "\n",
    "data_no_nan = dataset[attribute_columns].fillna('Keine') # Füllt leere Zeilen (bspw. bei Pool und GaragenTyp) mit einem Standardwert.\n",
    "\n",
    "column_amount = len(data_no_nan.columns)\n",
    "fig, axes = plt.subplots(math.ceil(column_amount / 4), 4, figsize = (15, 15))\n",
    "\n",
    "i = 0\n",
    "plt.tight_layout(pad = 3)\n",
    "for column in data_no_nan.columns:\n",
    "  chosenax = axes[math.floor(i / 4)][i % 4]\n",
    "  chosenax.set_title(column)\n",
    "  sb.countplot(data = data_no_nan, x = column, ax = chosenax)\n",
    "  i = i + 1\n",
    "plt.show()\n"
   ]
  },
  {
   "cell_type": "markdown",
   "metadata": {},
   "source": [
    "### Erkenntnis\n",
    "Hier hat sich herausgestellt, dass einige Spalten nicht aussagekräftig genug sind, da die Spalten eine zu geringe Varianz besitzen.\n",
    "\n",
    "Spalten mit sehr geringer Varianz:\n",
    "- Pool\n",
    "- Küchen(anzahl)\n",
    "- Klimaanlage\n",
    "- Heizung\n",
    "\n"
   ]
  },
  {
   "cell_type": "markdown",
   "metadata": {},
   "source": [
    "## Korrelation zwischen Preis und Immmobilieneigenschaften\n",
    "Um die Korrelation visualisieren zu können wird folgend eine einspaltige Heatmap genutzt.  \n",
    "Aus dieser soll sich herauslesen lassen können welche Attribute ausschlaggebend für einen höheren, oder auch einen niedrigeren Preis sind."
   ]
  },
  {
   "cell_type": "code",
   "execution_count": null,
   "metadata": {},
   "outputs": [],
   "source": [
    "# Ordinale Daten\n",
    "plt.figure(figsize = (12, 10))\n",
    "sb.heatmap(data = dataset.fillna(0).corr()['Preis'].to_frame(), annot = True, cmap = 'viridis')\n",
    "plt.show()"
   ]
  },
  {
   "cell_type": "code",
   "execution_count": null,
   "metadata": {},
   "outputs": [],
   "source": [
    "# Kategoriale Daten\n",
    "encoded_kategorieeigenschaften = pd.get_dummies(dataset[['Typ', 'Steigung', 'Grundstücksform', 'Garage Typ', 'Klimaanlage', 'Zone', 'Pool', 'Heizung']].fillna('Keine'))\n",
    "\n",
    "bezirk_preis = dataset[['Preis']].join(encoded_kategorieeigenschaften)\n",
    "plt.figure(figsize = (12, 10))\n",
    "sb.heatmap(data = bezirk_preis.corr()['Preis'].to_frame(), annot = True, cmap = 'viridis')\n",
    "plt.show()"
   ]
  },
  {
   "cell_type": "markdown",
   "metadata": {},
   "source": [
    "### Erkenntnis\n",
    "In einer Korrelation mit dem Preis stehende Eigenschaften sind:\n",
    "- Grundstücksgröße\n",
    "- Baujahr\n",
    "- Renovierungsjahr\n",
    "- Wohnfläche (1. Stock + 2. Stock)\n",
    "- Kellerfläche\n",
    "- Küchenqualität\n",
    "- Räume\n",
    "- Garagenkapazität\n",
    "\n",
    "Unter den Kategorialen Daten stehen mit dem Preis in Korrelation:\n",
    "- Typ\n",
    "- Grundstücksform\n",
    "- Garagentyp\n",
    "\n",
    "Trotz Korrelation aufgrund mangelnder Aussagekraft nicht beachtete Kategoriale Daten:\n",
    "- Klimaanlage\n",
    "- Verkaufsmonat\n",
    "- Verkaufsjahr"
   ]
  },
  {
   "cell_type": "markdown",
   "metadata": {},
   "source": [
    "## In welchem Preisumfeld liegt welcher Bezirk?\n",
    "Um den Investoren eine Empfehlung zu geben mit welchem Budget sie in welchen Bezirk investieren sollten (Beantwortung des Ziels 3), sollen die Quartile der Hauspreise je Bezirk betrachtet werden.\n",
    "\n",
    "Ebenso soll betrachtet werden ob die Auswahl eines einzelnen Bezirks im Vergleich zu allen anderen Bezirken eine Auswirkung auf den Verkaufspreis einer Immobilie besitzt."
   ]
  },
  {
   "cell_type": "code",
   "execution_count": null,
   "metadata": {},
   "outputs": [],
   "source": [
    "plt.figure(figsize = (15,8))\n",
    "sb.boxplot(data = dataset, x = 'Preis', y = 'Bezirk')\n",
    "plt.show()"
   ]
  },
  {
   "cell_type": "code",
   "execution_count": null,
   "metadata": {
    "tags": []
   },
   "outputs": [],
   "source": [
    "pd.get_dummies(dataset['Bezirk']).replace(0, math.nan).mul(dataset['Preis'], axis = 0).quantile([.25,.5,.75])"
   ]
  },
  {
   "cell_type": "markdown",
   "metadata": {},
   "source": [
    "### Erkenntnis\n",
    "Als Orientierung für das Budget der Investierenden kann die oben gezeigte Tabelle zu Rate gezogen werden.  \n",
    "Das 0.25 Quartil sollte als Mindest-Budget und das 0.75 Quartil als obere Budgetgrenze gelten."
   ]
  },
  {
   "cell_type": "code",
   "execution_count": null,
   "metadata": {},
   "outputs": [],
   "source": [
    "encoded_bezirke = pd.get_dummies(dataset['Bezirk'])\n",
    "bezirk_preis = dataset[['Preis']].join(encoded_bezirke)\n",
    "plt.figure(figsize = (12, 10))\n",
    "sb.heatmap(data = bezirk_preis.corr()['Preis'].to_frame(), annot = True, cmap = 'viridis').set_title('Korrelation zwischen Bezirk und Preis')\n",
    "plt.show()"
   ]
  },
  {
   "cell_type": "markdown",
   "metadata": {},
   "source": [
    "### Erkenntnis\n",
    "Durch diese Heatmap lässt sich erkennen, wie die Auswahl eines Bezirkes eine Auswirkung auf den Preis einer Immobilie hat.  \n",
    "Beispielsweise besitzen die Bezirke 'North East' und 'East End' mit einem Korrelationswert von +0,38 einen hohen positiven Einfluss auf dem Preis, d.h. Immobilien dort sind teurer als Beispielsweise in dem Bezirk 'Old Gotham' mit einem Korrelationswert von -0,2."
   ]
  }
 ],
 "metadata": {
  "kernelspec": {
   "display_name": "Python 3",
   "language": "python",
   "name": "python3"
  },
  "language_info": {
   "codemirror_mode": {
    "name": "ipython",
    "version": 3
   },
   "file_extension": ".py",
   "mimetype": "text/x-python",
   "name": "python",
   "nbconvert_exporter": "python",
   "pygments_lexer": "ipython3",
   "version": "3.8.3-final"
  }
 },
 "nbformat": 4,
 "nbformat_minor": 4
}