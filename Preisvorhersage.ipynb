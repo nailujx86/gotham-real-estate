{
 "metadata": {
  "language_info": {
   "codemirror_mode": {
    "name": "ipython",
    "version": 3
   },
   "file_extension": ".py",
   "mimetype": "text/x-python",
   "name": "python",
   "nbconvert_exporter": "python",
   "pygments_lexer": "ipython3",
   "version": "3.8.3-final"
  },
  "orig_nbformat": 2,
  "kernelspec": {
   "name": "python3",
   "display_name": "Python 3"
  }
 },
 "nbformat": 4,
 "nbformat_minor": 2,
 "cells": [
  {
   "source": [
    "# Standalone Prediction"
   ],
   "cell_type": "markdown",
   "metadata": {}
  },
  {
   "cell_type": "code",
   "execution_count": 29,
   "metadata": {},
   "outputs": [],
   "source": [
    "# Imports\n",
    "import pandas as pd"
   ]
  },
  {
   "source": [
    "## Import des Modells"
   ],
   "cell_type": "markdown",
   "metadata": {}
  },
  {
   "cell_type": "code",
   "execution_count": 30,
   "metadata": {},
   "outputs": [],
   "source": [
    "from joblib import load\n",
    "reg = load('gradientboosted.model')"
   ]
  },
  {
   "source": [
    "## Import der Daten\n",
    "Hier bitte entweder über den Input-Dialog, oder direkt, den Dateinamen des einzulesenden Datensatzes eingeben."
   ],
   "cell_type": "markdown",
   "metadata": {}
  },
  {
   "cell_type": "code",
   "execution_count": 31,
   "metadata": {},
   "outputs": [],
   "source": [
    "filename = input(\"Bitte Dateiname des einzulesenden Datensatzes eingeben:\") or \"DatenTest.csv\""
   ]
  },
  {
   "cell_type": "code",
   "execution_count": 32,
   "metadata": {},
   "outputs": [
    {
     "output_type": "execute_result",
     "data": {
      "text/plain": [
       "   Grundstück in qm Grundstücksform Steigung          Bezirk Zone  Lage   Typ  \\\n",
       "0               898             IR1     Nein        Somerset   RL  Norm  2Fam   \n",
       "1               725             Reg     Nein        Somerset   RL  Norm  1Fam   \n",
       "2               725             Reg     Nein   Somerset West   RL  Norm  1Fam   \n",
       "3               211             Reg     Nein      North East   RL  Norm   RMH   \n",
       "4               557             Reg     Nein      University   RL  Norm  1Fam   \n",
       "5               799             Reg       Ja  Water District   RM  Norm  1Fam   \n",
       "\n",
       "   Zustand  Gebaut  Renoviert  ...  Schlafzimmer  Küchen Küchenqualitt Rume  \\\n",
       "0        4    2107       2107  ...             6       2             3   10   \n",
       "1        7    2096       2138  ...             3       1             4    5   \n",
       "2        5    2135       2135  ...             3       1             4    8   \n",
       "3        5    2133       2134  ...             2       1             4    6   \n",
       "4        5    2056       2080  ...             4       1             3    7   \n",
       "5        6    2067       2080  ...             3       1             3    7   \n",
       "\n",
       "    Garage Typ  Garagenkapazitt  Pool  Verkaufsmonat  Verkaufsjahr   Preis  \n",
       "0        Anbau                2   NaN              8          2136  156500  \n",
       "1  Freistehend                1   NaN              6          2140  137900  \n",
       "2        Anbau                2   NaN              4          2136  184000  \n",
       "3    Eingebaut                2   NaN              7          2139  173000  \n",
       "4          NaN                0   NaN              6          2136  102000  \n",
       "5  Freistehend                1   NaN              6          2136  119500  \n",
       "\n",
       "[6 rows x 28 columns]"
      ],
      "text/html": "<div>\n<style scoped>\n    .dataframe tbody tr th:only-of-type {\n        vertical-align: middle;\n    }\n\n    .dataframe tbody tr th {\n        vertical-align: top;\n    }\n\n    .dataframe thead th {\n        text-align: right;\n    }\n</style>\n<table border=\"1\" class=\"dataframe\">\n  <thead>\n    <tr style=\"text-align: right;\">\n      <th></th>\n      <th>Grundstück in qm</th>\n      <th>Grundstücksform</th>\n      <th>Steigung</th>\n      <th>Bezirk</th>\n      <th>Zone</th>\n      <th>Lage</th>\n      <th>Typ</th>\n      <th>Zustand</th>\n      <th>Gebaut</th>\n      <th>Renoviert</th>\n      <th>...</th>\n      <th>Schlafzimmer</th>\n      <th>Küchen</th>\n      <th>Küchenqualitt</th>\n      <th>Rume</th>\n      <th>Garage Typ</th>\n      <th>Garagenkapazitt</th>\n      <th>Pool</th>\n      <th>Verkaufsmonat</th>\n      <th>Verkaufsjahr</th>\n      <th>Preis</th>\n    </tr>\n  </thead>\n  <tbody>\n    <tr>\n      <th>0</th>\n      <td>898</td>\n      <td>IR1</td>\n      <td>Nein</td>\n      <td>Somerset</td>\n      <td>RL</td>\n      <td>Norm</td>\n      <td>2Fam</td>\n      <td>4</td>\n      <td>2107</td>\n      <td>2107</td>\n      <td>...</td>\n      <td>6</td>\n      <td>2</td>\n      <td>3</td>\n      <td>10</td>\n      <td>Anbau</td>\n      <td>2</td>\n      <td>NaN</td>\n      <td>8</td>\n      <td>2136</td>\n      <td>156500</td>\n    </tr>\n    <tr>\n      <th>1</th>\n      <td>725</td>\n      <td>Reg</td>\n      <td>Nein</td>\n      <td>Somerset</td>\n      <td>RL</td>\n      <td>Norm</td>\n      <td>1Fam</td>\n      <td>7</td>\n      <td>2096</td>\n      <td>2138</td>\n      <td>...</td>\n      <td>3</td>\n      <td>1</td>\n      <td>4</td>\n      <td>5</td>\n      <td>Freistehend</td>\n      <td>1</td>\n      <td>NaN</td>\n      <td>6</td>\n      <td>2140</td>\n      <td>137900</td>\n    </tr>\n    <tr>\n      <th>2</th>\n      <td>725</td>\n      <td>Reg</td>\n      <td>Nein</td>\n      <td>Somerset West</td>\n      <td>RL</td>\n      <td>Norm</td>\n      <td>1Fam</td>\n      <td>5</td>\n      <td>2135</td>\n      <td>2135</td>\n      <td>...</td>\n      <td>3</td>\n      <td>1</td>\n      <td>4</td>\n      <td>8</td>\n      <td>Anbau</td>\n      <td>2</td>\n      <td>NaN</td>\n      <td>4</td>\n      <td>2136</td>\n      <td>184000</td>\n    </tr>\n    <tr>\n      <th>3</th>\n      <td>211</td>\n      <td>Reg</td>\n      <td>Nein</td>\n      <td>North East</td>\n      <td>RL</td>\n      <td>Norm</td>\n      <td>RMH</td>\n      <td>5</td>\n      <td>2133</td>\n      <td>2134</td>\n      <td>...</td>\n      <td>2</td>\n      <td>1</td>\n      <td>4</td>\n      <td>6</td>\n      <td>Eingebaut</td>\n      <td>2</td>\n      <td>NaN</td>\n      <td>7</td>\n      <td>2139</td>\n      <td>173000</td>\n    </tr>\n    <tr>\n      <th>4</th>\n      <td>557</td>\n      <td>Reg</td>\n      <td>Nein</td>\n      <td>University</td>\n      <td>RL</td>\n      <td>Norm</td>\n      <td>1Fam</td>\n      <td>5</td>\n      <td>2056</td>\n      <td>2080</td>\n      <td>...</td>\n      <td>4</td>\n      <td>1</td>\n      <td>3</td>\n      <td>7</td>\n      <td>NaN</td>\n      <td>0</td>\n      <td>NaN</td>\n      <td>6</td>\n      <td>2136</td>\n      <td>102000</td>\n    </tr>\n    <tr>\n      <th>5</th>\n      <td>799</td>\n      <td>Reg</td>\n      <td>Ja</td>\n      <td>Water District</td>\n      <td>RM</td>\n      <td>Norm</td>\n      <td>1Fam</td>\n      <td>6</td>\n      <td>2067</td>\n      <td>2080</td>\n      <td>...</td>\n      <td>3</td>\n      <td>1</td>\n      <td>3</td>\n      <td>7</td>\n      <td>Freistehend</td>\n      <td>1</td>\n      <td>NaN</td>\n      <td>6</td>\n      <td>2136</td>\n      <td>119500</td>\n    </tr>\n  </tbody>\n</table>\n<p>6 rows × 28 columns</p>\n</div>"
     },
     "metadata": {},
     "execution_count": 32
    }
   ],
   "source": [
    "dataset = pd.read_csv(filename, delimiter=';', encoding = 'cp852')\n",
    "dataset"
   ]
  },
  {
   "source": [
    "## Vorbereitung der Daten\n",
    "Siehe auch Aufgabe 3\n",
    "1. Entfernung unnötiger Spalten\n",
    "2. One-Hot Encoding\n",
    "3. Entfernen encodeter ursprünglicher Spalten\n",
    "4. Auffüllen mit fehlenden One-Hot Encoding Spalten\n",
    "5. Sortieren der Spalten um Modell zu entsprechen"
   ],
   "cell_type": "markdown",
   "metadata": {}
  },
  {
   "cell_type": "code",
   "execution_count": 33,
   "metadata": {},
   "outputs": [
    {
     "output_type": "stream",
     "name": "stdout",
     "text": [
      "Fehlende Eigenschaften: {'Lage_Str', 'Typ_2FamAn', 'Bezirk_Miller', 'Garage Typ_2Typen', 'Lage_Bahn', 'Bezirk_Burnley', 'Bezirk_Upper West', 'Bezirk_The Bowery', 'Heizungsqualitt_Gut', 'Heizungsqualitt_Schl', 'Garage Typ_CarPort', 'Bezirk_Grand Park', 'Bezirk_North West', 'Bezirk_East End', 'Bezirk_Somerst', 'Bezirk_Robinson Park', 'Bezirk_DiamondDistrict', 'Bezirk_Finger River', 'Bezirk_Old Gotham', 'Heizungsqualitt_Ud', 'Bezirk_Clear Creek', 'Zone_RH', 'Bezirk_Novick District', 'Bezirk_Dixon Side', 'Bezirk_Fashion District', 'Bezirk_Paris Island', 'Bezirk_City Hall', 'Lage_Pos', 'Bezirk_Tricorner', 'Grundstücksform_IR2', 'Grundstücksform_IR3', 'Typ_REH', 'Bezirk_New Gotham', 'Garage Typ_TG', 'Bezirk_ChinaTown'}\nEigenschaften werden jetzt angefügt..\n"
     ]
    }
   ],
   "source": [
    "df_keinunnoetig = dataset.drop(['Verkaufsjahr', 'Verkaufsmonat', 'Erster Stock in qm', 'Zweiter Stock in qm', 'Pool', 'Küchen', 'Klimaanlage', 'Heizung', 'Preis', 'Vorhergesagter Preis'], axis = 1, errors = 'ignore') ## errors = 'ignore' um nicht vorhandene Spalten einfach zu übergehen\n",
    "encode_kategorien = ['Bezirk', 'Lage', 'Heizungsqualitt', 'Typ', 'Steigung', 'Grundstücksform', 'Garage Typ', 'Zone']\n",
    "encoded_kategorieeigenschaften = pd.get_dummies(dataset[encode_kategorien].fillna('Keine'))\n",
    "df_encoded = df_keinunnoetig.drop(encode_kategorien, axis = 1).join(encoded_kategorieeigenschaften)\n",
    "\n",
    "needed_columns = ['Grundstück in qm', 'Zustand', 'Gebaut', 'Renoviert', 'Zustand Fassade',\n",
    "       'Kellerflche in qm', 'Wohnflche in qm', 'Schlafzimmer', 'Küchenqualitt',\n",
    "       'Rume', 'Garagenkapazitt', 'Bezirk_Burnley', 'Bezirk_ChinaTown',\n",
    "       'Bezirk_City Hall', 'Bezirk_Clear Creek', 'Bezirk_DiamondDistrict',\n",
    "       'Bezirk_Dixon Side', 'Bezirk_East End', 'Bezirk_Fashion District',\n",
    "       'Bezirk_Grand Park', 'Bezirk_Miller', 'Bezirk_New Gotham',\n",
    "       'Bezirk_North East', 'Bezirk_North West', 'Bezirk_Novick District',\n",
    "       'Bezirk_Old Gotham', 'Bezirk_Paris Island', 'Bezirk_Robinson Park',\n",
    "       'Bezirk_Somerset', 'Bezirk_Somerset West', 'Bezirk_Somerst',\n",
    "       'Bezirk_The Bowery', 'Bezirk_Tricorner', 'Bezirk_University',\n",
    "       'Bezirk_Upper West', 'Bezirk_Water District', 'Lage_Bahn', 'Lage_Norm',\n",
    "       'Lage_Pos', 'Lage_Str', 'Heizungsqualitt_Ex', 'Heizungsqualitt_Gut',\n",
    "       'Heizungsqualitt_Schl', 'Heizungsqualitt_Ty', 'Heizungsqualitt_Ud',\n",
    "       'Typ_1Fam', 'Typ_2Fam', 'Typ_2FamAn', 'Typ_REH', 'Typ_RMH',\n",
    "       'Steigung_Ja', 'Steigung_Nein', 'Grundstücksform_IR1',\n",
    "       'Grundstücksform_IR2', 'Grundstücksform_IR3', 'Grundstücksform_Reg',\n",
    "       'Garage Typ_2Typen', 'Garage Typ_Anbau', 'Garage Typ_CarPort',\n",
    "       'Garage Typ_Eingebaut', 'Garage Typ_Freistehend', 'Garage Typ_Keine',\n",
    "       'Garage Typ_TG', 'Zone_RH', 'Zone_RL', 'Zone_RM',\n",
    "       'Bezirk_Finger River']\n",
    "\n",
    "print(\"Fehlende Eigenschaften:\",set(needed_columns).difference(set(df_encoded.columns)))\n",
    "print(\"Eigenschaften werden jetzt angefügt..\")\n",
    "\n",
    "for column in needed_columns:\n",
    "    if column not in df_encoded:\n",
    "        df_encoded[column] = 0\n",
    "\n",
    "df_encoded = df_encoded.reindex(columns = needed_columns)"
   ]
  },
  {
   "source": [
    "## Prediction"
   ],
   "cell_type": "markdown",
   "metadata": {}
  },
  {
   "cell_type": "code",
   "execution_count": 34,
   "metadata": {},
   "outputs": [],
   "source": [
    "y_pred = reg.predict(df_encoded)"
   ]
  },
  {
   "cell_type": "code",
   "execution_count": 35,
   "metadata": {},
   "outputs": [],
   "source": [
    "dataset['Vorhergesagter Preis'] = y_pred"
   ]
  },
  {
   "cell_type": "code",
   "execution_count": 36,
   "metadata": {},
   "outputs": [
    {
     "output_type": "execute_result",
     "data": {
      "text/plain": [
       "   Grundstück in qm Grundstücksform Steigung          Bezirk Zone  Lage   Typ  \\\n",
       "0               898             IR1     Nein        Somerset   RL  Norm  2Fam   \n",
       "1               725             Reg     Nein        Somerset   RL  Norm  1Fam   \n",
       "2               725             Reg     Nein   Somerset West   RL  Norm  1Fam   \n",
       "3               211             Reg     Nein      North East   RL  Norm   RMH   \n",
       "4               557             Reg     Nein      University   RL  Norm  1Fam   \n",
       "5               799             Reg       Ja  Water District   RM  Norm  1Fam   \n",
       "\n",
       "   Zustand  Gebaut  Renoviert  ...  Küchen  Küchenqualitt Rume   Garage Typ  \\\n",
       "0        4    2107       2107  ...       2              3   10        Anbau   \n",
       "1        7    2096       2138  ...       1              4    5  Freistehend   \n",
       "2        5    2135       2135  ...       1              4    8        Anbau   \n",
       "3        5    2133       2134  ...       1              4    6    Eingebaut   \n",
       "4        5    2056       2080  ...       1              3    7          NaN   \n",
       "5        6    2067       2080  ...       1              3    7  Freistehend   \n",
       "\n",
       "  Garagenkapazitt  Pool  Verkaufsmonat  Verkaufsjahr   Preis  \\\n",
       "0               2   NaN              8          2136  156500   \n",
       "1               1   NaN              6          2140  137900   \n",
       "2               2   NaN              4          2136  184000   \n",
       "3               2   NaN              7          2139  173000   \n",
       "4               0   NaN              6          2136  102000   \n",
       "5               1   NaN              6          2136  119500   \n",
       "\n",
       "   Vorhergesagter Preis  \n",
       "0         178125.430501  \n",
       "1         132763.958362  \n",
       "2         184172.291638  \n",
       "3         169755.797613  \n",
       "4         123539.988866  \n",
       "5         119955.047592  \n",
       "\n",
       "[6 rows x 29 columns]"
      ],
      "text/html": "<div>\n<style scoped>\n    .dataframe tbody tr th:only-of-type {\n        vertical-align: middle;\n    }\n\n    .dataframe tbody tr th {\n        vertical-align: top;\n    }\n\n    .dataframe thead th {\n        text-align: right;\n    }\n</style>\n<table border=\"1\" class=\"dataframe\">\n  <thead>\n    <tr style=\"text-align: right;\">\n      <th></th>\n      <th>Grundstück in qm</th>\n      <th>Grundstücksform</th>\n      <th>Steigung</th>\n      <th>Bezirk</th>\n      <th>Zone</th>\n      <th>Lage</th>\n      <th>Typ</th>\n      <th>Zustand</th>\n      <th>Gebaut</th>\n      <th>Renoviert</th>\n      <th>...</th>\n      <th>Küchen</th>\n      <th>Küchenqualitt</th>\n      <th>Rume</th>\n      <th>Garage Typ</th>\n      <th>Garagenkapazitt</th>\n      <th>Pool</th>\n      <th>Verkaufsmonat</th>\n      <th>Verkaufsjahr</th>\n      <th>Preis</th>\n      <th>Vorhergesagter Preis</th>\n    </tr>\n  </thead>\n  <tbody>\n    <tr>\n      <th>0</th>\n      <td>898</td>\n      <td>IR1</td>\n      <td>Nein</td>\n      <td>Somerset</td>\n      <td>RL</td>\n      <td>Norm</td>\n      <td>2Fam</td>\n      <td>4</td>\n      <td>2107</td>\n      <td>2107</td>\n      <td>...</td>\n      <td>2</td>\n      <td>3</td>\n      <td>10</td>\n      <td>Anbau</td>\n      <td>2</td>\n      <td>NaN</td>\n      <td>8</td>\n      <td>2136</td>\n      <td>156500</td>\n      <td>178125.430501</td>\n    </tr>\n    <tr>\n      <th>1</th>\n      <td>725</td>\n      <td>Reg</td>\n      <td>Nein</td>\n      <td>Somerset</td>\n      <td>RL</td>\n      <td>Norm</td>\n      <td>1Fam</td>\n      <td>7</td>\n      <td>2096</td>\n      <td>2138</td>\n      <td>...</td>\n      <td>1</td>\n      <td>4</td>\n      <td>5</td>\n      <td>Freistehend</td>\n      <td>1</td>\n      <td>NaN</td>\n      <td>6</td>\n      <td>2140</td>\n      <td>137900</td>\n      <td>132763.958362</td>\n    </tr>\n    <tr>\n      <th>2</th>\n      <td>725</td>\n      <td>Reg</td>\n      <td>Nein</td>\n      <td>Somerset West</td>\n      <td>RL</td>\n      <td>Norm</td>\n      <td>1Fam</td>\n      <td>5</td>\n      <td>2135</td>\n      <td>2135</td>\n      <td>...</td>\n      <td>1</td>\n      <td>4</td>\n      <td>8</td>\n      <td>Anbau</td>\n      <td>2</td>\n      <td>NaN</td>\n      <td>4</td>\n      <td>2136</td>\n      <td>184000</td>\n      <td>184172.291638</td>\n    </tr>\n    <tr>\n      <th>3</th>\n      <td>211</td>\n      <td>Reg</td>\n      <td>Nein</td>\n      <td>North East</td>\n      <td>RL</td>\n      <td>Norm</td>\n      <td>RMH</td>\n      <td>5</td>\n      <td>2133</td>\n      <td>2134</td>\n      <td>...</td>\n      <td>1</td>\n      <td>4</td>\n      <td>6</td>\n      <td>Eingebaut</td>\n      <td>2</td>\n      <td>NaN</td>\n      <td>7</td>\n      <td>2139</td>\n      <td>173000</td>\n      <td>169755.797613</td>\n    </tr>\n    <tr>\n      <th>4</th>\n      <td>557</td>\n      <td>Reg</td>\n      <td>Nein</td>\n      <td>University</td>\n      <td>RL</td>\n      <td>Norm</td>\n      <td>1Fam</td>\n      <td>5</td>\n      <td>2056</td>\n      <td>2080</td>\n      <td>...</td>\n      <td>1</td>\n      <td>3</td>\n      <td>7</td>\n      <td>NaN</td>\n      <td>0</td>\n      <td>NaN</td>\n      <td>6</td>\n      <td>2136</td>\n      <td>102000</td>\n      <td>123539.988866</td>\n    </tr>\n    <tr>\n      <th>5</th>\n      <td>799</td>\n      <td>Reg</td>\n      <td>Ja</td>\n      <td>Water District</td>\n      <td>RM</td>\n      <td>Norm</td>\n      <td>1Fam</td>\n      <td>6</td>\n      <td>2067</td>\n      <td>2080</td>\n      <td>...</td>\n      <td>1</td>\n      <td>3</td>\n      <td>7</td>\n      <td>Freistehend</td>\n      <td>1</td>\n      <td>NaN</td>\n      <td>6</td>\n      <td>2136</td>\n      <td>119500</td>\n      <td>119955.047592</td>\n    </tr>\n  </tbody>\n</table>\n<p>6 rows × 29 columns</p>\n</div>"
     },
     "metadata": {},
     "execution_count": 36
    }
   ],
   "source": [
    "dataset"
   ]
  },
  {
   "cell_type": "code",
   "execution_count": 37,
   "metadata": {},
   "outputs": [],
   "source": [
    "filename = input(\"Bitte Name der Ausgabedatei eingeben:\") or \"VorhersageAusgabe.csv\""
   ]
  },
  {
   "cell_type": "code",
   "execution_count": 38,
   "metadata": {},
   "outputs": [],
   "source": [
    "if filename:\n",
    "    dataset.to_csv(filename, sep = ';')"
   ]
  },
  {
   "source": [
    "## Metriken berechnen\n",
    "Folgend sollen folgende Metriken für den eingelesenen Datensatz berechnet werden:  \n",
    "R2, MSE, RMSE, MAPE, MAX."
   ],
   "cell_type": "markdown",
   "metadata": {}
  },
  {
   "cell_type": "code",
   "execution_count": 39,
   "metadata": {},
   "outputs": [],
   "source": [
    "from sklearn.metrics import r2_score, mean_squared_error, max_error\n",
    "import numpy as np\n",
    "\n",
    "def mape (y_true, y_pred):\n",
    "    return np.mean(np.abs((y_true - y_pred) / y_true)) * 100"
   ]
  },
  {
   "cell_type": "code",
   "execution_count": 40,
   "metadata": {},
   "outputs": [
    {
     "output_type": "stream",
     "name": "stdout",
     "text": [
      "R^2: 0.8056826254276921\nMSE: 161461815.0402826\nRMSE: 12706.762571177704\nMAPE: 6.83499366828869\nMAX: 21625.43050082709\n"
     ]
    }
   ],
   "source": [
    "y_true = dataset['Preis'].fillna(0)\n",
    "print(\"R^2:\", r2_score(y_true, y_pred))\n",
    "print(\"MSE:\", mean_squared_error(y_true, y_pred))\n",
    "print(\"RMSE:\", mean_squared_error(y_true, y_pred)**.5)\n",
    "print(\"MAPE:\", mape(y_true, y_pred))\n",
    "print(\"MAX:\", max_error(y_true, y_pred))"
   ]
  }
 ]
}