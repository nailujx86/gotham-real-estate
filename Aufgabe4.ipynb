{
 "metadata": {
  "language_info": {
   "codemirror_mode": {
    "name": "ipython",
    "version": 3
   },
   "file_extension": ".py",
   "mimetype": "text/x-python",
   "name": "python",
   "nbconvert_exporter": "python",
   "pygments_lexer": "ipython3",
   "version": "3.8.3-final"
  },
  "orig_nbformat": 2,
  "kernelspec": {
   "name": "python3",
   "display_name": "Python 3"
  }
 },
 "nbformat": 4,
 "nbformat_minor": 2,
 "cells": [
  {
   "source": [
    "# Aufgabe 4: Evaluation"
   ],
   "cell_type": "markdown",
   "metadata": {}
  },
  {
   "cell_type": "code",
   "execution_count": 1,
   "metadata": {},
   "outputs": [],
   "source": [
    "# Imports\n",
    "import pandas as pd"
   ]
  },
  {
   "source": [
    "## Import und Verarbeitung des Modells"
   ],
   "cell_type": "markdown",
   "metadata": {}
  },
  {
   "cell_type": "code",
   "execution_count": 2,
   "metadata": {},
   "outputs": [],
   "source": [
    "from joblib import load\n",
    "reg = load('gradientboosted.model')"
   ]
  },
  {
   "cell_type": "code",
   "execution_count": 3,
   "metadata": {},
   "outputs": [],
   "source": [
    "dataset = pd.read_csv('./DatenAusgegeben1.0.csv', delimiter=';', encoding = 'cp852')"
   ]
  },
  {
   "cell_type": "code",
   "execution_count": 4,
   "metadata": {},
   "outputs": [
    {
     "output_type": "stream",
     "name": "stdout",
     "text": [
      "Fehlende Eigenschaften: {'Bezirk_Finger River'}\nEigenschaften werden jetzt angefügt..\n"
     ]
    }
   ],
   "source": [
    "df_keinunnoetig = dataset.drop(['Verkaufsjahr', 'Verkaufsmonat', 'Erster Stock in qm', 'Zweiter Stock in qm', 'Pool', 'Küchen', 'Klimaanlage', 'Heizung', 'Preis'], axis = 1)\n",
    "encode_kategorien = ['Bezirk', 'Lage', 'Heizungsqualitt', 'Typ', 'Steigung', 'Grundstücksform', 'Garage Typ', 'Zone']\n",
    "encoded_kategorieeigenschaften = pd.get_dummies(dataset[encode_kategorien].fillna('Keine'))\n",
    "df_encoded = df_keinunnoetig.drop(encode_kategorien, axis = 1).join(encoded_kategorieeigenschaften)\n",
    "\n",
    "needed_columns = ['Grundstück in qm', 'Zustand', 'Gebaut', 'Renoviert', 'Zustand Fassade',\n",
    "       'Kellerflche in qm', 'Wohnflche in qm', 'Schlafzimmer', 'Küchenqualitt',\n",
    "       'Rume', 'Garagenkapazitt', 'Bezirk_Burnley', 'Bezirk_ChinaTown',\n",
    "       'Bezirk_City Hall', 'Bezirk_Clear Creek', 'Bezirk_DiamondDistrict',\n",
    "       'Bezirk_Dixon Side', 'Bezirk_East End', 'Bezirk_Fashion District',\n",
    "       'Bezirk_Grand Park', 'Bezirk_Miller', 'Bezirk_New Gotham',\n",
    "       'Bezirk_North East', 'Bezirk_North West', 'Bezirk_Novick District',\n",
    "       'Bezirk_Old Gotham', 'Bezirk_Paris Island', 'Bezirk_Robinson Park',\n",
    "       'Bezirk_Somerset', 'Bezirk_Somerset West', 'Bezirk_Somerst',\n",
    "       'Bezirk_The Bowery', 'Bezirk_Tricorner', 'Bezirk_University',\n",
    "       'Bezirk_Upper West', 'Bezirk_Water District', 'Lage_Bahn', 'Lage_Norm',\n",
    "       'Lage_Pos', 'Lage_Str', 'Heizungsqualitt_Ex', 'Heizungsqualitt_Gut',\n",
    "       'Heizungsqualitt_Schl', 'Heizungsqualitt_Ty', 'Heizungsqualitt_Ud',\n",
    "       'Typ_1Fam', 'Typ_2Fam', 'Typ_2FamAn', 'Typ_REH', 'Typ_RMH',\n",
    "       'Steigung_Ja', 'Steigung_Nein', 'Grundstücksform_IR1',\n",
    "       'Grundstücksform_IR2', 'Grundstücksform_IR3', 'Grundstücksform_Reg',\n",
    "       'Garage Typ_2Typen', 'Garage Typ_Anbau', 'Garage Typ_CarPort',\n",
    "       'Garage Typ_Eingebaut', 'Garage Typ_Freistehend', 'Garage Typ_Keine',\n",
    "       'Garage Typ_TG', 'Zone_RH', 'Zone_RL', 'Zone_RM',\n",
    "       'Bezirk_Finger River']\n",
    "\n",
    "print(\"Fehlende Eigenschaften:\",set(needed_columns).difference(set(df_encoded.columns)))\n",
    "print(\"Eigenschaften werden jetzt angefügt..\")\n",
    "\n",
    "for column in needed_columns:\n",
    "    if column not in df_encoded:\n",
    "        df_encoded[column] = 0\n",
    "\n",
    "df_encoded = df_encoded.reindex(columns = needed_columns)"
   ]
  },
  {
   "cell_type": "code",
   "execution_count": 5,
   "metadata": {},
   "outputs": [],
   "source": [
    "y_pred = reg.predict(df_encoded)"
   ]
  },
  {
   "cell_type": "code",
   "execution_count": 6,
   "metadata": {},
   "outputs": [],
   "source": [
    "dataset['Vorhergesagter Preis'] = y_pred"
   ]
  },
  {
   "source": [
    "from sklearn.metrics import r2_score, mean_squared_error, max_error\n",
    "import numpy as np\n",
    "\n",
    "def mape (y_true, y_pred):\n",
    "    return np.mean(np.abs((y_true - y_pred) / y_true)) * 100"
   ],
   "cell_type": "code",
   "metadata": {},
   "execution_count": 7,
   "outputs": []
  },
  {
   "source": [
    "## Metriken des finalen Modells"
   ],
   "cell_type": "markdown",
   "metadata": {}
  },
  {
   "cell_type": "code",
   "execution_count": 20,
   "metadata": {},
   "outputs": [
    {
     "output_type": "stream",
     "name": "stdout",
     "text": [
      "R^2: 0.8543983451026348\nMSE: 755688028.388094\nRMSE: 27489.78043542898\nMAPE: 7.134673683837832\nMAX: 426820.8922176695\n"
     ]
    }
   ],
   "source": [
    "y_true = dataset['Preis']\n",
    "print(\"R^2:\", r2_score(y_true, y_pred))\n",
    "print(\"MSE:\", mean_squared_error(y_true, y_pred))\n",
    "print(\"RMSE:\", mean_squared_error(y_true, y_pred)**.5)\n",
    "print(\"MAPE:\", mape(y_true, y_pred))\n",
    "print(\"MAX:\", max_error(y_true, y_pred))"
   ]
  },
  {
   "source": [
    "## Evaluation der Vorhersage\n",
    "Die Metriken zeigen uns, dass das in der Modeling Phase erstellte Modell gut geeignet ist, eine Preisvorhersage wie in der Phase des Business Understandings definiert durchzuführen.  \n",
    "\n",
    "Hohe Werte des MAX-Error und des MSE/RMSE sind auf Ausreißer im durchlaufenen Datensatz zurückzuführen.  \n",
    "\n"
   ],
   "cell_type": "markdown",
   "metadata": {}
  },
  {
   "source": [
    "## Evaluation der anderen Ziele\n",
    "In der Data Exploration und Analyse wurde versucht die anderen Ziele, die Frage nach Renovierungsmöglichkeiten,  die Frage mit welchem Budget in welchen Bezirk investiert werden sollte, die Frage welche Hausattribute einen ausschlaggebenden Einfluss auf den Preis besitzen und die Frage nach dem profitabelsten Verkaufsmonat einer Immobilie zu beantworten.\n",
    "\n",
    "Es konnten alle Fragen, außer der nach dem profitabelsten Verkaufsmonat in der Data Exploration und Analyse beantwortet werden. Zu dieser Frage konnte keine Antwort gefunden werden, da es sich herausstellte, dass der Verkaufsmonat in diesem Datensatz keinen Einfluss auf den Verkaufspreis einer Immobilie besitzt."
   ],
   "cell_type": "markdown",
   "metadata": {}
  }
 ]
}