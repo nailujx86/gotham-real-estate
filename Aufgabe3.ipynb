{
 "metadata": {
  "language_info": {
   "codemirror_mode": {
    "name": "ipython",
    "version": 3
   },
   "file_extension": ".py",
   "mimetype": "text/x-python",
   "name": "python",
   "nbconvert_exporter": "python",
   "pygments_lexer": "ipython3",
   "version": "3.8.3-final"
  },
  "orig_nbformat": 2,
  "kernelspec": {
   "name": "python3",
   "display_name": "Python 3"
  }
 },
 "nbformat": 4,
 "nbformat_minor": 2,
 "cells": [
  {
   "source": [
    "# Aufgabe 3: Data Preparation und Modeling "
   ],
   "cell_type": "markdown",
   "metadata": {}
  },
  {
   "source": [
    "## TODO:\n",
    "- Anomalien bereinigen\n",
    "- Feature Engineering\n",
    "    - Unnötige Spalten (siehe Aufg. 2) entfernen\n",
    "    - One-Hot Encoding einiger Eigenschaften\n",
    "- "
   ],
   "cell_type": "markdown",
   "metadata": {}
  },
  {
   "cell_type": "code",
   "execution_count": null,
   "metadata": {},
   "outputs": [],
   "source": [
    "import pandas as pd\n",
    "import matplotlib.pyplot as plt\n",
    "import math\n",
    "import seaborn as sb\n",
    "from sklearn.linear_model import LinearRegression\n",
    "from sklearn.model_selection import train_test_split"
   ]
  },
  {
   "cell_type": "code",
   "execution_count": null,
   "metadata": {},
   "outputs": [],
   "source": [
    "dataset = pd.read_csv('./DatenAusgegeben1.0.csv', delimiter=';', encoding = 'cp852')\n",
    "dataset"
   ]
  },
  {
   "source": [
    "## Unnötige Spalten entfernen\n",
    "Zu entfernen sind:  \n",
    "Siehe Aufg. 2. Untersuchung auf einen Zusammenhang zwischen Preis und Verkaufszeitpunkt:\n",
    "- Verkaufsjahr\n",
    "- Verkaufsmonat\n",
    "\n",
    "(Da Gesamtwohnfläche zusammengesetzt aus erster Stock und zweiter Stock ist:\n",
    "- Erster Stock in qm\n",
    "- Zweiter Stock in qm\n",
    "#TODO: Prüfen ob nicht rauszunehmen)\n",
    "\n",
    "Siehe Aufg. 2. Untersuchung des Datensatzes auf vernachlässigbare Hauseigenschaften (Spalten):\n",
    "- Pool\n",
    "- Küchen\n",
    "- Klimaanlage\n",
    "- Heizung"
   ],
   "cell_type": "markdown",
   "metadata": {}
  },
  {
   "cell_type": "code",
   "execution_count": null,
   "metadata": {},
   "outputs": [],
   "source": [
    "df_keinunnoetig = dataset.drop(['Verkaufsjahr', 'Verkaufsmonat', 'Erster Stock in qm', 'Zweiter Stock in qm', 'Pool', 'Küchen', 'Klimaanlage', 'Heizung'], axis = 1)"
   ]
  },
  {
   "source": [
    "## Anomalien bereinigen\n",
    "Nun sollen Anomalien in dem Datensatz gefunden und bereinigt werden.\n",
    "Hierbei wird der Interquartilsabstand verwendet um Ausreißer zu finden.  \n",
    "(https://en.wikipedia.org/wiki/Interquartile_range)  \n",
    "\n",
    "Hierbei sollen ausschließlich numerische Werte, also keine Werte einer ordinalen Skala betrachtet werden. (`columns_filtered`)"
   ],
   "cell_type": "markdown",
   "metadata": {}
  },
  {
   "cell_type": "code",
   "execution_count": null,
   "metadata": {},
   "outputs": [],
   "source": [
    "columns = ['Grundstück in qm', 'Zustand', 'Gebaut',\n",
    "           'Renoviert', 'Zustand Fassade', 'Kellerflche in qm',\n",
    "           'Wohnflche in qm', 'Schlafzimmer', 'Küchenqualitt', \n",
    "           'Rume', 'Garagenkapazitt', 'Preis']\n",
    "\n",
    "columns_filtered = ['Grundstück in qm', 'Kellerflche in qm', 'Wohnflche in qm', \n",
    "           'Schlafzimmer', 'Gebaut', 'Rume', 'Garagenkapazitt', 'Preis']\n",
    "\n",
    "Q1 = df_keinunnoetig[columns_filtered].quantile(0.25)\n",
    "Q3 = df_keinunnoetig[columns_filtered].quantile(0.75)\n",
    "IQR = Q3 - Q1\n",
    "\n",
    "df_anomalienbereinigen = df_keinunnoetig[~((df_keinunnoetig[columns_filtered] < (Q1 - 1.5 * IQR)) |(dataset[columns_filtered] > (Q3 + 1.5 * IQR))).any(axis=1)]"
   ]
  },
  {
   "source": [
    "## Verifikation der Bereinigung\n",
    "Nun soll verifiziert werden, ob die Bereinigung auf Anomalien erfolgreich gewesen ist. Hierzu können die untenstehenden Boxplots mit denen aus **Aufg. 2, Finden von Anomalien** verglichen werden."
   ],
   "cell_type": "markdown",
   "metadata": {}
  },
  {
   "cell_type": "code",
   "execution_count": null,
   "metadata": {},
   "outputs": [],
   "source": [
    "fig, axes = plt.subplots(4, 5, figsize = (10, 15))\n",
    "i = 0\n",
    "plt.tight_layout(pad = 2)\n",
    "for column in columns:\n",
    "  chosenax = axes[math.floor(i / 5)][i % 5]\n",
    "  chosenax.set_title(column)\n",
    "  sb.boxplot(data = df_anomalienbereinigen[[column]], ax = chosenax)\n",
    "  i = i + 1\n",
    "plt.show()"
   ]
  },
  {
   "cell_type": "code",
   "execution_count": null,
   "metadata": {},
   "outputs": [],
   "source": [
    "encode_kategorien = ['Bezirk', 'Lage', 'Heizungsqualitt', 'Typ', 'Steigung', 'Grundstücksform', 'Garage Typ', 'Zone']\n",
    "\n",
    "encoded_kategorieeigenschaften = pd.get_dummies(dataset[encode_kategorien].fillna('Keine'))\n",
    "df_encoded = df_anomalienbereinigen.drop(encode_kategorien, axis = 1).join(encoded_kategorieeigenschaften)"
   ]
  },
  {
   "cell_type": "code",
   "execution_count": null,
   "metadata": {},
   "outputs": [],
   "source": [
    "reg = LinearRegression()\n",
    "df_train = df_encoded.drop('Preis', axis = 1)\n",
    "values_predict = df_encoded['Preis']\n",
    "x_train, x_test, y_train, y_test = train_test_split(df_train, values_predict, test_size = 0.2)\n",
    "\n",
    "reg.fit(x_train, y_train)\n",
    "\n",
    "print(reg.coef_, reg.intercept_, reg.rank_)\n",
    "reg.score(x_test, y_test)"
   ]
  }
 ]
}