{
 "metadata": {
  "language_info": {
   "codemirror_mode": {
    "name": "ipython",
    "version": 3
   },
   "file_extension": ".py",
   "mimetype": "text/x-python",
   "name": "python",
   "nbconvert_exporter": "python",
   "pygments_lexer": "ipython3",
   "version": "3.8.3-final"
  },
  "orig_nbformat": 2,
  "kernelspec": {
   "name": "python3",
   "display_name": "Python 3"
  }
 },
 "nbformat": 4,
 "nbformat_minor": 2,
 "cells": [
  {
   "source": [
    "# Aufgabe 3: Data Preparation und Modeling "
   ],
   "cell_type": "markdown",
   "metadata": {}
  },
  {
   "cell_type": "code",
   "execution_count": null,
   "metadata": {},
   "outputs": [],
   "source": [
    "import pandas as pd"
   ]
  },
  {
   "cell_type": "code",
   "execution_count": null,
   "metadata": {},
   "outputs": [],
   "source": [
    "dataset = pd.read_csv('./DatenAusgegeben1.0.csv', delimiter=';', encoding = 'cp852')\n",
    "dataset"
   ]
  },
  {
   "source": [
    "## Anomalien bereinigen"
   ],
   "cell_type": "markdown",
   "metadata": {}
  },
  {
   "cell_type": "code",
   "execution_count": null,
   "metadata": {},
   "outputs": [],
   "source": [
    "columns = ['Grundstück in qm', 'Zustand', 'Gebaut',\n",
    "           'Renoviert', 'Zustand Fassade', 'Kellerflche in qm',\n",
    "           'Erster Stock in qm', 'Zweiter Stock in qm', 'Wohnflche in qm', \n",
    "           'Schlafzimmer', 'Küchen', 'Küchenqualitt', 'Rume', 'Garagenkapazitt',\n",
    "           'Verkaufsmonat', 'Verkaufsjahr', 'Preis']\n",
    "\n",
    "columns_filtered = ['Grundstück in qm', 'Zustand Fassade', 'Kellerflche in qm',\n",
    "           'Erster Stock in qm', 'Zweiter Stock in qm', 'Wohnflche in qm', \n",
    "           'Schlafzimmer', 'Gebaut', 'Rume', 'Garagenkapazitt', 'Preis']\n",
    "\n",
    "Q1 = dataset[columns_filtered].quantile(0.25)\n",
    "Q3 = dataset[columns_filtered].quantile(0.75)\n",
    "IQR = Q3 - Q1\n",
    "\n",
    "df_out = dataset[~((dataset[columns_filtered] < (Q1 - 1.5 * IQR)) |(dataset[columns_filtered] > (Q3 + 1.5 * IQR))).any(axis=1)]\n",
    "# print(dataset['Preis'], df_out['Preis'])\n",
    "\n",
    "\n",
    "# sb.boxplot(data = df[['Preis']])\n",
    "# plt.show()"
   ]
  },
  {
   "source": [
    "## Verifikation der Bereinigung"
   ],
   "cell_type": "markdown",
   "metadata": {}
  },
  {
   "cell_type": "code",
   "execution_count": null,
   "metadata": {},
   "outputs": [],
   "source": [
    "import matplotlib.pyplot as plt\n",
    "import math\n",
    "import seaborn as sb\n",
    "\n",
    "fig, axes = plt.subplots(4, 5, figsize = (10, 15))\n",
    "i = 0\n",
    "plt.tight_layout(pad = 2)\n",
    "for column in columns:\n",
    "  chosenax = axes[math.floor(i / 5)][i % 5]\n",
    "  chosenax.set_title(column)\n",
    "  sb.boxplot(data = df_out[[column]], ax = chosenax)\n",
    "  i = i + 1\n",
    "plt.show()"
   ]
  }
 ]
}