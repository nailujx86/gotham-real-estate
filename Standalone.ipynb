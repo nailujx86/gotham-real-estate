{
 "metadata": {
  "language_info": {
   "codemirror_mode": {
    "name": "ipython",
    "version": 3
   },
   "file_extension": ".py",
   "mimetype": "text/x-python",
   "name": "python",
   "nbconvert_exporter": "python",
   "pygments_lexer": "ipython3",
   "version": "3.8.3-final"
  },
  "orig_nbformat": 2,
  "kernelspec": {
   "name": "python3",
   "display_name": "Python 3"
  }
 },
 "nbformat": 4,
 "nbformat_minor": 2,
 "cells": [
  {
   "source": [
    "# Standalone Prediction"
   ],
   "cell_type": "markdown",
   "metadata": {}
  },
  {
   "cell_type": "code",
   "execution_count": 121,
   "metadata": {},
   "outputs": [],
   "source": [
    "# Imports\n",
    "import pandas as pd"
   ]
  },
  {
   "source": [
    "## Import des Modells"
   ],
   "cell_type": "markdown",
   "metadata": {}
  },
  {
   "cell_type": "code",
   "execution_count": 122,
   "metadata": {},
   "outputs": [],
   "source": [
    "from joblib import load\n",
    "reg = load('gradientboosted2.model')"
   ]
  },
  {
   "source": [
    "## Import der Daten\n",
    "Hier bitte entweder über den Input-Dialog, oder direkt, den Dateinamen eingeben."
   ],
   "cell_type": "markdown",
   "metadata": {}
  },
  {
   "cell_type": "code",
   "execution_count": 123,
   "metadata": {},
   "outputs": [],
   "source": [
    "filename = input(\"Bitte Dateiname der CSV-Datei eingeben:\")"
   ]
  },
  {
   "cell_type": "code",
   "execution_count": 124,
   "metadata": {},
   "outputs": [
    {
     "output_type": "execute_result",
     "data": {
      "text/plain": [
       "   Grundstück in qm Grundstücksform Steigung      Bezirk Zone  Lage   Typ  \\\n",
       "0              1093             Reg     Nein  Grand Park   RL  Norm  1Fam   \n",
       "1              1228             IR1     Nein  North East   RL  Norm  1Fam   \n",
       "2               778             Reg     Nein    Somerset   RL  Norm  1Fam   \n",
       "\n",
       "   Zustand  Gebaut  Renoviert  ...  Schlafzimmer  Küchen Küchenqualitt Rume  \\\n",
       "0        7    2040       2130  ...             2       1             3    6   \n",
       "1        5    2134       2134  ...             3       1             4    9   \n",
       "2        7    2071       2103  ...             2       1             4    6   \n",
       "\n",
       "    Garage Typ  Garagenkapazitt  Pool  Verkaufsmonat  Verkaufsjahr   Preis  \n",
       "0  Freistehend                1   NaN              5          2137  112000  \n",
       "1    Eingebaut                3   NaN              2          2136  279000  \n",
       "2       2Typen                3   NaN              6          2138  152400  \n",
       "\n",
       "[3 rows x 28 columns]"
      ],
      "text/html": "<div>\n<style scoped>\n    .dataframe tbody tr th:only-of-type {\n        vertical-align: middle;\n    }\n\n    .dataframe tbody tr th {\n        vertical-align: top;\n    }\n\n    .dataframe thead th {\n        text-align: right;\n    }\n</style>\n<table border=\"1\" class=\"dataframe\">\n  <thead>\n    <tr style=\"text-align: right;\">\n      <th></th>\n      <th>Grundstück in qm</th>\n      <th>Grundstücksform</th>\n      <th>Steigung</th>\n      <th>Bezirk</th>\n      <th>Zone</th>\n      <th>Lage</th>\n      <th>Typ</th>\n      <th>Zustand</th>\n      <th>Gebaut</th>\n      <th>Renoviert</th>\n      <th>...</th>\n      <th>Schlafzimmer</th>\n      <th>Küchen</th>\n      <th>Küchenqualitt</th>\n      <th>Rume</th>\n      <th>Garage Typ</th>\n      <th>Garagenkapazitt</th>\n      <th>Pool</th>\n      <th>Verkaufsmonat</th>\n      <th>Verkaufsjahr</th>\n      <th>Preis</th>\n    </tr>\n  </thead>\n  <tbody>\n    <tr>\n      <th>0</th>\n      <td>1093</td>\n      <td>Reg</td>\n      <td>Nein</td>\n      <td>Grand Park</td>\n      <td>RL</td>\n      <td>Norm</td>\n      <td>1Fam</td>\n      <td>7</td>\n      <td>2040</td>\n      <td>2130</td>\n      <td>...</td>\n      <td>2</td>\n      <td>1</td>\n      <td>3</td>\n      <td>6</td>\n      <td>Freistehend</td>\n      <td>1</td>\n      <td>NaN</td>\n      <td>5</td>\n      <td>2137</td>\n      <td>112000</td>\n    </tr>\n    <tr>\n      <th>1</th>\n      <td>1228</td>\n      <td>IR1</td>\n      <td>Nein</td>\n      <td>North East</td>\n      <td>RL</td>\n      <td>Norm</td>\n      <td>1Fam</td>\n      <td>5</td>\n      <td>2134</td>\n      <td>2134</td>\n      <td>...</td>\n      <td>3</td>\n      <td>1</td>\n      <td>4</td>\n      <td>9</td>\n      <td>Eingebaut</td>\n      <td>3</td>\n      <td>NaN</td>\n      <td>2</td>\n      <td>2136</td>\n      <td>279000</td>\n    </tr>\n    <tr>\n      <th>2</th>\n      <td>778</td>\n      <td>Reg</td>\n      <td>Nein</td>\n      <td>Somerset</td>\n      <td>RL</td>\n      <td>Norm</td>\n      <td>1Fam</td>\n      <td>7</td>\n      <td>2071</td>\n      <td>2103</td>\n      <td>...</td>\n      <td>2</td>\n      <td>1</td>\n      <td>4</td>\n      <td>6</td>\n      <td>2Typen</td>\n      <td>3</td>\n      <td>NaN</td>\n      <td>6</td>\n      <td>2138</td>\n      <td>152400</td>\n    </tr>\n  </tbody>\n</table>\n<p>3 rows × 28 columns</p>\n</div>"
     },
     "metadata": {},
     "execution_count": 124
    }
   ],
   "source": [
    "dataset = pd.read_csv(filename, delimiter=';', encoding = 'cp852')\n",
    "dataset"
   ]
  },
  {
   "source": [
    "## Vorbereitung der Daten\n",
    "1. Entfernung unnötiger Spalten\n",
    "2. One-Hot Encoding\n",
    "3. Entfernen encodeter ursprünglicher Spalten\n",
    "4. Auffüllen mit fehlenden One-Hot Encoding Spalten\n",
    "5. Sortieren der Spalten um Modell zu entsprechen"
   ],
   "cell_type": "markdown",
   "metadata": {}
  },
  {
   "cell_type": "code",
   "execution_count": 125,
   "metadata": {},
   "outputs": [
    {
     "output_type": "stream",
     "name": "stdout",
     "text": [
      "Fehlende Eigenschaften: {'Typ_2FamAn', 'Bezirk_Paris Island', 'Typ_REH', 'Garage Typ_TG', 'Lage_Bahn', 'Bezirk_Water District', 'Bezirk_New Gotham', 'Lage_Pos', 'Bezirk_The Bowery', 'Heizungsqualitt_Ud', 'Zone_RM', 'Bezirk_Dixon Side', 'Zone_RH', 'Bezirk_Finger River', 'Bezirk_Miller', 'Bezirk_Somerst', 'Bezirk_Old Gotham', 'Heizungsqualitt_Schl', 'Bezirk_Robinson Park', 'Bezirk_Burnley', 'Bezirk_City Hall', 'Garage Typ_Anbau', 'Garage Typ_Keine', 'Typ_2Fam', 'Grundstücksform_IR3', 'Bezirk_East End', 'Bezirk_Novick District', 'Bezirk_DiamondDistrict', 'Bezirk_North West', 'Bezirk_Tricorner', 'Typ_RMH', 'Bezirk_ChinaTown', 'Bezirk_Clear Creek', 'Bezirk_University', 'Steigung_Ja', 'Garage Typ_CarPort', 'Heizungsqualitt_Ty', 'Bezirk_Upper West', 'Bezirk_Fashion District', 'Lage_Str', 'Grundstücksform_IR2', 'Bezirk_Somerset West'}\nColumns werden jetzt angefügt..\n"
     ]
    }
   ],
   "source": [
    "df_keinunnoetig = dataset.drop(['Verkaufsjahr', 'Verkaufsmonat', 'Erster Stock in qm', 'Zweiter Stock in qm', 'Pool', 'Küchen', 'Klimaanlage', 'Heizung', 'Preis'], axis = 1)\n",
    "encode_kategorien = ['Bezirk', 'Lage', 'Heizungsqualitt', 'Typ', 'Steigung', 'Grundstücksform', 'Garage Typ', 'Zone']\n",
    "encoded_kategorieeigenschaften = pd.get_dummies(dataset[encode_kategorien].fillna('Keine'))\n",
    "df_encoded = df_keinunnoetig.drop(encode_kategorien, axis = 1).join(encoded_kategorieeigenschaften)\n",
    "\n",
    "needed_columns = ['Grundstück in qm', 'Zustand', 'Gebaut', 'Renoviert', 'Zustand Fassade',\n",
    "       'Kellerflche in qm', 'Wohnflche in qm', 'Schlafzimmer', 'Küchenqualitt',\n",
    "       'Rume', 'Garagenkapazitt', 'Bezirk_Burnley', 'Bezirk_ChinaTown',\n",
    "       'Bezirk_City Hall', 'Bezirk_Clear Creek', 'Bezirk_DiamondDistrict',\n",
    "       'Bezirk_Dixon Side', 'Bezirk_East End', 'Bezirk_Fashion District',\n",
    "       'Bezirk_Grand Park', 'Bezirk_Miller', 'Bezirk_New Gotham',\n",
    "       'Bezirk_North East', 'Bezirk_North West', 'Bezirk_Novick District',\n",
    "       'Bezirk_Old Gotham', 'Bezirk_Paris Island', 'Bezirk_Robinson Park',\n",
    "       'Bezirk_Somerset', 'Bezirk_Somerset West', 'Bezirk_Somerst',\n",
    "       'Bezirk_The Bowery', 'Bezirk_Tricorner', 'Bezirk_University',\n",
    "       'Bezirk_Upper West', 'Bezirk_Water District', 'Lage_Bahn', 'Lage_Norm',\n",
    "       'Lage_Pos', 'Lage_Str', 'Heizungsqualitt_Ex', 'Heizungsqualitt_Gut',\n",
    "       'Heizungsqualitt_Schl', 'Heizungsqualitt_Ty', 'Heizungsqualitt_Ud',\n",
    "       'Typ_1Fam', 'Typ_2Fam', 'Typ_2FamAn', 'Typ_REH', 'Typ_RMH',\n",
    "       'Steigung_Ja', 'Steigung_Nein', 'Grundstücksform_IR1',\n",
    "       'Grundstücksform_IR2', 'Grundstücksform_IR3', 'Grundstücksform_Reg',\n",
    "       'Garage Typ_2Typen', 'Garage Typ_Anbau', 'Garage Typ_CarPort',\n",
    "       'Garage Typ_Eingebaut', 'Garage Typ_Freistehend', 'Garage Typ_Keine',\n",
    "       'Garage Typ_TG', 'Zone_RH', 'Zone_RL', 'Zone_RM',\n",
    "       'Bezirk_Finger River']\n",
    "\n",
    "print(\"Fehlende Eigenschaften:\",set(needed_columns).difference(set(df_encoded.columns)))\n",
    "print(\"Eigenschaften werden jetzt angefügt..\")\n",
    "\n",
    "for column in needed_columns:\n",
    "    if column not in df_encoded:\n",
    "        df_encoded[column] = 0\n",
    "\n",
    "df_encoded = df_encoded.reindex(columns = needed_columns)"
   ]
  },
  {
   "source": [
    "## Prediction"
   ],
   "cell_type": "markdown",
   "metadata": {}
  },
  {
   "cell_type": "code",
   "execution_count": 126,
   "metadata": {},
   "outputs": [],
   "source": [
    "y_pred = reg.predict(df_encoded)"
   ]
  },
  {
   "cell_type": "code",
   "execution_count": 127,
   "metadata": {},
   "outputs": [],
   "source": [
    "dataset['Vorhergesagter Preis'] = y_pred"
   ]
  },
  {
   "cell_type": "code",
   "execution_count": 128,
   "metadata": {},
   "outputs": [
    {
     "output_type": "execute_result",
     "data": {
      "text/plain": [
       "   Grundstück in qm Grundstücksform Steigung      Bezirk Zone  Lage   Typ  \\\n",
       "0              1093             Reg     Nein  Grand Park   RL  Norm  1Fam   \n",
       "1              1228             IR1     Nein  North East   RL  Norm  1Fam   \n",
       "2               778             Reg     Nein    Somerset   RL  Norm  1Fam   \n",
       "\n",
       "   Zustand  Gebaut  Renoviert  ...  Küchen  Küchenqualitt Rume   Garage Typ  \\\n",
       "0        7    2040       2130  ...       1              3    6  Freistehend   \n",
       "1        5    2134       2134  ...       1              4    9    Eingebaut   \n",
       "2        7    2071       2103  ...       1              4    6       2Typen   \n",
       "\n",
       "  Garagenkapazitt  Pool  Verkaufsmonat  Verkaufsjahr   Preis  \\\n",
       "0               1   NaN              5          2137  112000   \n",
       "1               3   NaN              2          2136  279000   \n",
       "2               3   NaN              6          2138  152400   \n",
       "\n",
       "   Vorhergesagter Preis  \n",
       "0         116338.105034  \n",
       "1         263534.864965  \n",
       "2         139496.105800  \n",
       "\n",
       "[3 rows x 29 columns]"
      ],
      "text/html": "<div>\n<style scoped>\n    .dataframe tbody tr th:only-of-type {\n        vertical-align: middle;\n    }\n\n    .dataframe tbody tr th {\n        vertical-align: top;\n    }\n\n    .dataframe thead th {\n        text-align: right;\n    }\n</style>\n<table border=\"1\" class=\"dataframe\">\n  <thead>\n    <tr style=\"text-align: right;\">\n      <th></th>\n      <th>Grundstück in qm</th>\n      <th>Grundstücksform</th>\n      <th>Steigung</th>\n      <th>Bezirk</th>\n      <th>Zone</th>\n      <th>Lage</th>\n      <th>Typ</th>\n      <th>Zustand</th>\n      <th>Gebaut</th>\n      <th>Renoviert</th>\n      <th>...</th>\n      <th>Küchen</th>\n      <th>Küchenqualitt</th>\n      <th>Rume</th>\n      <th>Garage Typ</th>\n      <th>Garagenkapazitt</th>\n      <th>Pool</th>\n      <th>Verkaufsmonat</th>\n      <th>Verkaufsjahr</th>\n      <th>Preis</th>\n      <th>Vorhergesagter Preis</th>\n    </tr>\n  </thead>\n  <tbody>\n    <tr>\n      <th>0</th>\n      <td>1093</td>\n      <td>Reg</td>\n      <td>Nein</td>\n      <td>Grand Park</td>\n      <td>RL</td>\n      <td>Norm</td>\n      <td>1Fam</td>\n      <td>7</td>\n      <td>2040</td>\n      <td>2130</td>\n      <td>...</td>\n      <td>1</td>\n      <td>3</td>\n      <td>6</td>\n      <td>Freistehend</td>\n      <td>1</td>\n      <td>NaN</td>\n      <td>5</td>\n      <td>2137</td>\n      <td>112000</td>\n      <td>116338.105034</td>\n    </tr>\n    <tr>\n      <th>1</th>\n      <td>1228</td>\n      <td>IR1</td>\n      <td>Nein</td>\n      <td>North East</td>\n      <td>RL</td>\n      <td>Norm</td>\n      <td>1Fam</td>\n      <td>5</td>\n      <td>2134</td>\n      <td>2134</td>\n      <td>...</td>\n      <td>1</td>\n      <td>4</td>\n      <td>9</td>\n      <td>Eingebaut</td>\n      <td>3</td>\n      <td>NaN</td>\n      <td>2</td>\n      <td>2136</td>\n      <td>279000</td>\n      <td>263534.864965</td>\n    </tr>\n    <tr>\n      <th>2</th>\n      <td>778</td>\n      <td>Reg</td>\n      <td>Nein</td>\n      <td>Somerset</td>\n      <td>RL</td>\n      <td>Norm</td>\n      <td>1Fam</td>\n      <td>7</td>\n      <td>2071</td>\n      <td>2103</td>\n      <td>...</td>\n      <td>1</td>\n      <td>4</td>\n      <td>6</td>\n      <td>2Typen</td>\n      <td>3</td>\n      <td>NaN</td>\n      <td>6</td>\n      <td>2138</td>\n      <td>152400</td>\n      <td>139496.105800</td>\n    </tr>\n  </tbody>\n</table>\n<p>3 rows × 29 columns</p>\n</div>"
     },
     "metadata": {},
     "execution_count": 128
    }
   ],
   "source": [
    "dataset"
   ]
  },
  {
   "source": [
    "## Metriken berechnen\n",
    "Folgend sollen die folgenden Metriken für den eingelesenen Datensatz berechnet werden:  \n",
    "R2, MSE, RMSE, MAPE, MAX."
   ],
   "cell_type": "markdown",
   "metadata": {}
  },
  {
   "cell_type": "code",
   "execution_count": 129,
   "metadata": {},
   "outputs": [],
   "source": [
    "from sklearn.metrics import r2_score, mean_squared_error, max_error\n",
    "import numpy as np\n",
    "\n",
    "def mape (y_true, y_pred):\n",
    "    return np.mean(np.abs((y_true - y_pred) / y_true)) * 100"
   ]
  },
  {
   "cell_type": "code",
   "execution_count": 130,
   "metadata": {},
   "outputs": [
    {
     "output_type": "stream",
     "name": "stdout",
     "text": [
      "R^2: 0.972040923930794\nMSE: 141500014.1483296\nRMSE: 11895.377848068954\nMAPE: 5.961163132108747\nMAX: 15465.135034807201\n"
     ]
    }
   ],
   "source": [
    "y_true = dataset['Preis']\n",
    "print(\"R^2:\", r2_score(y_true, y_pred))\n",
    "print(\"MSE:\", mean_squared_error(y_true, y_pred))\n",
    "print(\"RMSE:\", mean_squared_error(y_true, y_pred)**.5)\n",
    "print(\"MAPE:\", mape(y_true, y_pred))\n",
    "print(\"MAX:\", max_error(y_true, y_pred))"
   ]
  }
 ]
}